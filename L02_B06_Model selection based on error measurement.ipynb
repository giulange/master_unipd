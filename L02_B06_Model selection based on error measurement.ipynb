{
 "cells": [
  {
   "cell_type": "markdown",
   "id": "5fbea47e",
   "metadata": {},
   "source": [
    "# Hands-on: model selection based on error measurement"
   ]
  },
  {
   "cell_type": "markdown",
   "id": "99339f3d",
   "metadata": {},
   "source": [
    "### Master"
   ]
  },
  {
   "cell_type": "markdown",
   "id": "f4ed82f3",
   "metadata": {},
   "source": [
    "<br>\n",
    "<b style=\"font-family:Fantasy\">Giuliano Langella</b> &nbsp; &nbsp;\n",
    "<b style=\"font-family:Arial\">glangella@unina.it</b>\n",
    "\n",
    "<b>Tobler's Low of Geography (1970): <br><em>$\\quad$ \"Everything is related to everything else, but near things are more related than distant things\".</em></b>"
   ]
  },
  {
   "cell_type": "markdown",
   "id": "8cd82e92",
   "metadata": {},
   "source": [
    "---"
   ]
  },
  {
   "cell_type": "markdown",
   "id": "6c8c5cdc",
   "metadata": {},
   "source": [
    "## Data | random subsets"
   ]
  },
  {
   "cell_type": "code",
   "execution_count": 1,
   "id": "d873ac15",
   "metadata": {},
   "outputs": [],
   "source": [
    "setwd('/home/jovyan/work/Didattica/esercizi/DTA/')"
   ]
  },
  {
   "cell_type": "code",
   "execution_count": 2,
   "id": "266770f7",
   "metadata": {},
   "outputs": [
    {
     "name": "stderr",
     "output_type": "stream",
     "text": [
      "\n",
      "\u001b[36m──\u001b[39m \u001b[1m\u001b[1mColumn specification\u001b[1m\u001b[22m \u001b[36m────────────────────────────────────────────────────────\u001b[39m\n",
      "cols(\n",
      "  Xcoord = \u001b[32mcol_double()\u001b[39m,\n",
      "  Ycoord = \u001b[32mcol_double()\u001b[39m,\n",
      "  Tmean = \u001b[32mcol_double()\u001b[39m\n",
      ")\n",
      "\n",
      "\n"
     ]
    }
   ],
   "source": [
    "library(readr)\n",
    "tmean <- read_csv(\"XY_Tmean.csv\")"
   ]
  },
  {
   "cell_type": "code",
   "execution_count": 3,
   "id": "84c2e85a",
   "metadata": {},
   "outputs": [
    {
     "data": {
      "text/html": [
       "<style>\n",
       ".list-inline {list-style: none; margin:0; padding: 0}\n",
       ".list-inline>li {display: inline-block}\n",
       ".list-inline>li:not(:last-child)::after {content: \"\\00b7\"; padding: 0 .5ex}\n",
       "</style>\n",
       "<ol class=list-inline><li>493</li><li>3</li></ol>\n"
      ],
      "text/latex": [
       "\\begin{enumerate*}\n",
       "\\item 493\n",
       "\\item 3\n",
       "\\end{enumerate*}\n"
      ],
      "text/markdown": [
       "1. 493\n",
       "2. 3\n",
       "\n",
       "\n"
      ],
      "text/plain": [
       "[1] 493   3"
      ]
     },
     "metadata": {},
     "output_type": "display_data"
    }
   ],
   "source": [
    "dim(tmean)"
   ]
  },
  {
   "cell_type": "code",
   "execution_count": 4,
   "id": "167edc5d",
   "metadata": {},
   "outputs": [
    {
     "data": {
      "text/html": [
       "493"
      ],
      "text/latex": [
       "493"
      ],
      "text/markdown": [
       "493"
      ],
      "text/plain": [
       "[1] 493"
      ]
     },
     "metadata": {},
     "output_type": "display_data"
    }
   ],
   "source": [
    "n <- dim(tmean)[1]\n",
    "n"
   ]
  },
  {
   "cell_type": "markdown",
   "id": "4133c6af",
   "metadata": {},
   "source": [
    "### SPDF"
   ]
  },
  {
   "cell_type": "code",
   "execution_count": 5,
   "id": "55f42424",
   "metadata": {},
   "outputs": [
    {
     "name": "stderr",
     "output_type": "stream",
     "text": [
      "Loading required package: sp\n",
      "\n"
     ]
    }
   ],
   "source": [
    "require(sp)\n",
    "coordinates(tmean) = ~Xcoord+Ycoord"
   ]
  },
  {
   "cell_type": "code",
   "execution_count": 6,
   "id": "b0f940a3",
   "metadata": {},
   "outputs": [],
   "source": [
    "proj4string(tmean) <- CRS('+init=epsg:32633')"
   ]
  },
  {
   "cell_type": "code",
   "execution_count": 7,
   "id": "90234675",
   "metadata": {},
   "outputs": [
    {
     "data": {
      "text/plain": [
       "Object of class SpatialPointsDataFrame\n",
       "Coordinates:\n",
       "           min     max\n",
       "Xcoord  398275  567061\n",
       "Ycoord 4430586 4592903\n",
       "Is projected: TRUE \n",
       "proj4string :\n",
       "[+proj=utm +zone=33 +datum=WGS84 +units=m +no_defs]\n",
       "Number of points: 493\n",
       "Data attributes:\n",
       "     Tmean        \n",
       " Min.   : 0.3347  \n",
       " 1st Qu.: 1.4522  \n",
       " Median : 3.2497  \n",
       " Mean   : 3.5548  \n",
       " 3rd Qu.: 5.0767  \n",
       " Max.   :12.6371  "
      ]
     },
     "metadata": {},
     "output_type": "display_data"
    }
   ],
   "source": [
    "summary(tmean)"
   ]
  },
  {
   "cell_type": "markdown",
   "id": "0e7569a5",
   "metadata": {},
   "source": [
    "### split validation subset"
   ]
  },
  {
   "cell_type": "markdown",
   "id": "7535f326",
   "metadata": {},
   "source": [
    "we want 20% data forming the validation subset"
   ]
  },
  {
   "cell_type": "code",
   "execution_count": 8,
   "id": "a76ed8e1",
   "metadata": {},
   "outputs": [
    {
     "data": {
      "text/html": [
       "98.6"
      ],
      "text/latex": [
       "98.6"
      ],
      "text/markdown": [
       "98.6"
      ],
      "text/plain": [
       "[1] 98.6"
      ]
     },
     "metadata": {},
     "output_type": "display_data"
    }
   ],
   "source": [
    "n_val <- n * 20 / 100\n",
    "n_val"
   ]
  },
  {
   "cell_type": "code",
   "execution_count": 9,
   "id": "29310085",
   "metadata": {},
   "outputs": [],
   "source": [
    "n_val = 100"
   ]
  },
  {
   "cell_type": "code",
   "execution_count": 10,
   "id": "38cb1ef4",
   "metadata": {
    "collapsed": true,
    "jupyter": {
     "outputs_hidden": true
    },
    "tags": []
   },
   "outputs": [
    {
     "data": {
      "text/html": [
       "<style>\n",
       ".list-inline {list-style: none; margin:0; padding: 0}\n",
       ".list-inline>li {display: inline-block}\n",
       ".list-inline>li:not(:last-child)::after {content: \"\\00b7\"; padding: 0 .5ex}\n",
       "</style>\n",
       "<ol class=list-inline><li>115</li><li>102</li><li>215</li><li>199</li><li>460</li><li>293</li><li>448</li><li>10</li><li>253</li><li>42</li><li>176</li><li>338</li><li>34</li><li>31</li><li>279</li><li>207</li><li>132</li><li>336</li><li>479</li><li>354</li><li>325</li><li>219</li><li>147</li><li>428</li><li>109</li><li>178</li><li>3</li><li>117</li><li>466</li><li>225</li><li>72</li><li>87</li><li>268</li><li>173</li><li>349</li><li>323</li><li>281</li><li>484</li><li>19</li><li>144</li><li>266</li><li>201</li><li>468</li><li>230</li><li>404</li><li>22</li><li>362</li><li>406</li><li>203</li><li>150</li><li>347</li><li>204</li><li>382</li><li>287</li><li>77</li><li>491</li><li>222</li><li>300</li><li>376</li><li>439</li><li>12</li><li>289</li><li>79</li><li>330</li><li>18</li><li>262</li><li>188</li><li>467</li><li>314</li><li>161</li><li>322</li><li>1</li><li>71</li><li>232</li><li>16</li><li>182</li><li>237</li><li>388</li><li>343</li><li>261</li><li>44</li><li>135</li><li>74</li><li>224</li><li>258</li><li>302</li><li>465</li><li>257</li><li>100</li><li>370</li><li>473</li><li>344</li><li>7</li><li>62</li><li>121</li><li>84</li><li>212</li><li>282</li><li>13</li><li>375</li></ol>\n"
      ],
      "text/latex": [
       "\\begin{enumerate*}\n",
       "\\item 115\n",
       "\\item 102\n",
       "\\item 215\n",
       "\\item 199\n",
       "\\item 460\n",
       "\\item 293\n",
       "\\item 448\n",
       "\\item 10\n",
       "\\item 253\n",
       "\\item 42\n",
       "\\item 176\n",
       "\\item 338\n",
       "\\item 34\n",
       "\\item 31\n",
       "\\item 279\n",
       "\\item 207\n",
       "\\item 132\n",
       "\\item 336\n",
       "\\item 479\n",
       "\\item 354\n",
       "\\item 325\n",
       "\\item 219\n",
       "\\item 147\n",
       "\\item 428\n",
       "\\item 109\n",
       "\\item 178\n",
       "\\item 3\n",
       "\\item 117\n",
       "\\item 466\n",
       "\\item 225\n",
       "\\item 72\n",
       "\\item 87\n",
       "\\item 268\n",
       "\\item 173\n",
       "\\item 349\n",
       "\\item 323\n",
       "\\item 281\n",
       "\\item 484\n",
       "\\item 19\n",
       "\\item 144\n",
       "\\item 266\n",
       "\\item 201\n",
       "\\item 468\n",
       "\\item 230\n",
       "\\item 404\n",
       "\\item 22\n",
       "\\item 362\n",
       "\\item 406\n",
       "\\item 203\n",
       "\\item 150\n",
       "\\item 347\n",
       "\\item 204\n",
       "\\item 382\n",
       "\\item 287\n",
       "\\item 77\n",
       "\\item 491\n",
       "\\item 222\n",
       "\\item 300\n",
       "\\item 376\n",
       "\\item 439\n",
       "\\item 12\n",
       "\\item 289\n",
       "\\item 79\n",
       "\\item 330\n",
       "\\item 18\n",
       "\\item 262\n",
       "\\item 188\n",
       "\\item 467\n",
       "\\item 314\n",
       "\\item 161\n",
       "\\item 322\n",
       "\\item 1\n",
       "\\item 71\n",
       "\\item 232\n",
       "\\item 16\n",
       "\\item 182\n",
       "\\item 237\n",
       "\\item 388\n",
       "\\item 343\n",
       "\\item 261\n",
       "\\item 44\n",
       "\\item 135\n",
       "\\item 74\n",
       "\\item 224\n",
       "\\item 258\n",
       "\\item 302\n",
       "\\item 465\n",
       "\\item 257\n",
       "\\item 100\n",
       "\\item 370\n",
       "\\item 473\n",
       "\\item 344\n",
       "\\item 7\n",
       "\\item 62\n",
       "\\item 121\n",
       "\\item 84\n",
       "\\item 212\n",
       "\\item 282\n",
       "\\item 13\n",
       "\\item 375\n",
       "\\end{enumerate*}\n"
      ],
      "text/markdown": [
       "1. 115\n",
       "2. 102\n",
       "3. 215\n",
       "4. 199\n",
       "5. 460\n",
       "6. 293\n",
       "7. 448\n",
       "8. 10\n",
       "9. 253\n",
       "10. 42\n",
       "11. 176\n",
       "12. 338\n",
       "13. 34\n",
       "14. 31\n",
       "15. 279\n",
       "16. 207\n",
       "17. 132\n",
       "18. 336\n",
       "19. 479\n",
       "20. 354\n",
       "21. 325\n",
       "22. 219\n",
       "23. 147\n",
       "24. 428\n",
       "25. 109\n",
       "26. 178\n",
       "27. 3\n",
       "28. 117\n",
       "29. 466\n",
       "30. 225\n",
       "31. 72\n",
       "32. 87\n",
       "33. 268\n",
       "34. 173\n",
       "35. 349\n",
       "36. 323\n",
       "37. 281\n",
       "38. 484\n",
       "39. 19\n",
       "40. 144\n",
       "41. 266\n",
       "42. 201\n",
       "43. 468\n",
       "44. 230\n",
       "45. 404\n",
       "46. 22\n",
       "47. 362\n",
       "48. 406\n",
       "49. 203\n",
       "50. 150\n",
       "51. 347\n",
       "52. 204\n",
       "53. 382\n",
       "54. 287\n",
       "55. 77\n",
       "56. 491\n",
       "57. 222\n",
       "58. 300\n",
       "59. 376\n",
       "60. 439\n",
       "61. 12\n",
       "62. 289\n",
       "63. 79\n",
       "64. 330\n",
       "65. 18\n",
       "66. 262\n",
       "67. 188\n",
       "68. 467\n",
       "69. 314\n",
       "70. 161\n",
       "71. 322\n",
       "72. 1\n",
       "73. 71\n",
       "74. 232\n",
       "75. 16\n",
       "76. 182\n",
       "77. 237\n",
       "78. 388\n",
       "79. 343\n",
       "80. 261\n",
       "81. 44\n",
       "82. 135\n",
       "83. 74\n",
       "84. 224\n",
       "85. 258\n",
       "86. 302\n",
       "87. 465\n",
       "88. 257\n",
       "89. 100\n",
       "90. 370\n",
       "91. 473\n",
       "92. 344\n",
       "93. 7\n",
       "94. 62\n",
       "95. 121\n",
       "96. 84\n",
       "97. 212\n",
       "98. 282\n",
       "99. 13\n",
       "100. 375\n",
       "\n",
       "\n"
      ],
      "text/plain": [
       "  [1] 115 102 215 199 460 293 448  10 253  42 176 338  34  31 279 207 132 336\n",
       " [19] 479 354 325 219 147 428 109 178   3 117 466 225  72  87 268 173 349 323\n",
       " [37] 281 484  19 144 266 201 468 230 404  22 362 406 203 150 347 204 382 287\n",
       " [55]  77 491 222 300 376 439  12 289  79 330  18 262 188 467 314 161 322   1\n",
       " [73]  71 232  16 182 237 388 343 261  44 135  74 224 258 302 465 257 100 370\n",
       " [91] 473 344   7  62 121  84 212 282  13 375"
      ]
     },
     "metadata": {},
     "output_type": "display_data"
    }
   ],
   "source": [
    "val_idx <- sample(1:n, n_val)\n",
    "val_idx"
   ]
  },
  {
   "cell_type": "markdown",
   "id": "d0414049",
   "metadata": {},
   "source": [
    "Set the seed in the random number generator, in order to get always the same list of random indexes:"
   ]
  },
  {
   "cell_type": "code",
   "execution_count": 11,
   "id": "d32e4d06",
   "metadata": {
    "collapsed": true,
    "jupyter": {
     "outputs_hidden": true
    },
    "tags": []
   },
   "outputs": [
    {
     "data": {
      "text/html": [
       "<style>\n",
       ".list-inline {list-style: none; margin:0; padding: 0}\n",
       ".list-inline>li {display: inline-block}\n",
       ".list-inline>li:not(:last-child)::after {content: \"\\00b7\"; padding: 0 .5ex}\n",
       "</style>\n",
       "<ol class=list-inline><li>388</li><li>385</li><li>387</li><li>462</li><li>436</li><li>381</li><li>116</li><li>146</li><li>448</li><li>204</li><li>43</li><li>49</li><li>459</li><li>325</li><li>453</li><li>166</li><li>460</li><li>125</li><li>468</li><li>226</li><li>12</li><li>232</li><li>243</li><li>304</li><li>67</li><li>423</li><li>256</li><li>11</li><li>111</li><li>45</li><li>425</li><li>162</li><li>149</li><li>221</li><li>474</li><li>276</li><li>246</li><li>118</li><li>75</li><li>97</li><li>316</li><li>212</li><li>193</li><li>300</li><li>74</li><li>330</li><li>234</li><li>433</li><li>223</li><li>318</li><li>15</li><li>441</li><li>168</li><li>473</li><li>173</li><li>137</li><li>294</li><li>250</li><li>353</li><li>307</li><li>384</li><li>249</li><li>184</li><li>27</li><li>217</li><li>485</li><li>247</li><li>261</li><li>337</li><li>20</li><li>229</li><li>406</li><li>415</li><li>144</li><li>117</li><li>192</li><li>39</li><li>366</li><li>2</li><li>421</li><li>10</li><li>390</li><li>358</li><li>44</li><li>467</li><li>338</li><li>163</li><li>4</li><li>109</li><li>491</li><li>225</li><li>251</li><li>449</li><li>38</li><li>335</li><li>153</li><li>55</li><li>450</li><li>478</li><li>492</li></ol>\n"
      ],
      "text/latex": [
       "\\begin{enumerate*}\n",
       "\\item 388\n",
       "\\item 385\n",
       "\\item 387\n",
       "\\item 462\n",
       "\\item 436\n",
       "\\item 381\n",
       "\\item 116\n",
       "\\item 146\n",
       "\\item 448\n",
       "\\item 204\n",
       "\\item 43\n",
       "\\item 49\n",
       "\\item 459\n",
       "\\item 325\n",
       "\\item 453\n",
       "\\item 166\n",
       "\\item 460\n",
       "\\item 125\n",
       "\\item 468\n",
       "\\item 226\n",
       "\\item 12\n",
       "\\item 232\n",
       "\\item 243\n",
       "\\item 304\n",
       "\\item 67\n",
       "\\item 423\n",
       "\\item 256\n",
       "\\item 11\n",
       "\\item 111\n",
       "\\item 45\n",
       "\\item 425\n",
       "\\item 162\n",
       "\\item 149\n",
       "\\item 221\n",
       "\\item 474\n",
       "\\item 276\n",
       "\\item 246\n",
       "\\item 118\n",
       "\\item 75\n",
       "\\item 97\n",
       "\\item 316\n",
       "\\item 212\n",
       "\\item 193\n",
       "\\item 300\n",
       "\\item 74\n",
       "\\item 330\n",
       "\\item 234\n",
       "\\item 433\n",
       "\\item 223\n",
       "\\item 318\n",
       "\\item 15\n",
       "\\item 441\n",
       "\\item 168\n",
       "\\item 473\n",
       "\\item 173\n",
       "\\item 137\n",
       "\\item 294\n",
       "\\item 250\n",
       "\\item 353\n",
       "\\item 307\n",
       "\\item 384\n",
       "\\item 249\n",
       "\\item 184\n",
       "\\item 27\n",
       "\\item 217\n",
       "\\item 485\n",
       "\\item 247\n",
       "\\item 261\n",
       "\\item 337\n",
       "\\item 20\n",
       "\\item 229\n",
       "\\item 406\n",
       "\\item 415\n",
       "\\item 144\n",
       "\\item 117\n",
       "\\item 192\n",
       "\\item 39\n",
       "\\item 366\n",
       "\\item 2\n",
       "\\item 421\n",
       "\\item 10\n",
       "\\item 390\n",
       "\\item 358\n",
       "\\item 44\n",
       "\\item 467\n",
       "\\item 338\n",
       "\\item 163\n",
       "\\item 4\n",
       "\\item 109\n",
       "\\item 491\n",
       "\\item 225\n",
       "\\item 251\n",
       "\\item 449\n",
       "\\item 38\n",
       "\\item 335\n",
       "\\item 153\n",
       "\\item 55\n",
       "\\item 450\n",
       "\\item 478\n",
       "\\item 492\n",
       "\\end{enumerate*}\n"
      ],
      "text/markdown": [
       "1. 388\n",
       "2. 385\n",
       "3. 387\n",
       "4. 462\n",
       "5. 436\n",
       "6. 381\n",
       "7. 116\n",
       "8. 146\n",
       "9. 448\n",
       "10. 204\n",
       "11. 43\n",
       "12. 49\n",
       "13. 459\n",
       "14. 325\n",
       "15. 453\n",
       "16. 166\n",
       "17. 460\n",
       "18. 125\n",
       "19. 468\n",
       "20. 226\n",
       "21. 12\n",
       "22. 232\n",
       "23. 243\n",
       "24. 304\n",
       "25. 67\n",
       "26. 423\n",
       "27. 256\n",
       "28. 11\n",
       "29. 111\n",
       "30. 45\n",
       "31. 425\n",
       "32. 162\n",
       "33. 149\n",
       "34. 221\n",
       "35. 474\n",
       "36. 276\n",
       "37. 246\n",
       "38. 118\n",
       "39. 75\n",
       "40. 97\n",
       "41. 316\n",
       "42. 212\n",
       "43. 193\n",
       "44. 300\n",
       "45. 74\n",
       "46. 330\n",
       "47. 234\n",
       "48. 433\n",
       "49. 223\n",
       "50. 318\n",
       "51. 15\n",
       "52. 441\n",
       "53. 168\n",
       "54. 473\n",
       "55. 173\n",
       "56. 137\n",
       "57. 294\n",
       "58. 250\n",
       "59. 353\n",
       "60. 307\n",
       "61. 384\n",
       "62. 249\n",
       "63. 184\n",
       "64. 27\n",
       "65. 217\n",
       "66. 485\n",
       "67. 247\n",
       "68. 261\n",
       "69. 337\n",
       "70. 20\n",
       "71. 229\n",
       "72. 406\n",
       "73. 415\n",
       "74. 144\n",
       "75. 117\n",
       "76. 192\n",
       "77. 39\n",
       "78. 366\n",
       "79. 2\n",
       "80. 421\n",
       "81. 10\n",
       "82. 390\n",
       "83. 358\n",
       "84. 44\n",
       "85. 467\n",
       "86. 338\n",
       "87. 163\n",
       "88. 4\n",
       "89. 109\n",
       "90. 491\n",
       "91. 225\n",
       "92. 251\n",
       "93. 449\n",
       "94. 38\n",
       "95. 335\n",
       "96. 153\n",
       "97. 55\n",
       "98. 450\n",
       "99. 478\n",
       "100. 492\n",
       "\n",
       "\n"
      ],
      "text/plain": [
       "  [1] 388 385 387 462 436 381 116 146 448 204  43  49 459 325 453 166 460 125\n",
       " [19] 468 226  12 232 243 304  67 423 256  11 111  45 425 162 149 221 474 276\n",
       " [37] 246 118  75  97 316 212 193 300  74 330 234 433 223 318  15 441 168 473\n",
       " [55] 173 137 294 250 353 307 384 249 184  27 217 485 247 261 337  20 229 406\n",
       " [73] 415 144 117 192  39 366   2 421  10 390 358  44 467 338 163   4 109 491\n",
       " [91] 225 251 449  38 335 153  55 450 478 492"
      ]
     },
     "metadata": {},
     "output_type": "display_data"
    }
   ],
   "source": [
    "set.seed(3008)\n",
    "val_idx <- sample(1:n, n_val)\n",
    "val_idx"
   ]
  },
  {
   "cell_type": "markdown",
   "id": "e0a50d6e",
   "metadata": {},
   "source": [
    "Split"
   ]
  },
  {
   "cell_type": "code",
   "execution_count": 12,
   "id": "55fb1a2f",
   "metadata": {},
   "outputs": [
    {
     "data": {
      "text/html": [
       "<style>\n",
       ".list-inline {list-style: none; margin:0; padding: 0}\n",
       ".list-inline>li {display: inline-block}\n",
       ".list-inline>li:not(:last-child)::after {content: \"\\00b7\"; padding: 0 .5ex}\n",
       "</style>\n",
       "<ol class=list-inline><li>100</li><li>1</li></ol>\n"
      ],
      "text/latex": [
       "\\begin{enumerate*}\n",
       "\\item 100\n",
       "\\item 1\n",
       "\\end{enumerate*}\n"
      ],
      "text/markdown": [
       "1. 100\n",
       "2. 1\n",
       "\n",
       "\n"
      ],
      "text/plain": [
       "[1] 100   1"
      ]
     },
     "metadata": {},
     "output_type": "display_data"
    }
   ],
   "source": [
    "tm_val <- tmean[val_idx,]\n",
    "dim(tm_val)"
   ]
  },
  {
   "cell_type": "code",
   "execution_count": 13,
   "id": "7dde1f9b",
   "metadata": {},
   "outputs": [
    {
     "data": {
      "text/html": [
       "<style>\n",
       ".list-inline {list-style: none; margin:0; padding: 0}\n",
       ".list-inline>li {display: inline-block}\n",
       ".list-inline>li:not(:last-child)::after {content: \"\\00b7\"; padding: 0 .5ex}\n",
       "</style>\n",
       "<ol class=list-inline><li>393</li><li>1</li></ol>\n"
      ],
      "text/latex": [
       "\\begin{enumerate*}\n",
       "\\item 393\n",
       "\\item 1\n",
       "\\end{enumerate*}\n"
      ],
      "text/markdown": [
       "1. 393\n",
       "2. 1\n",
       "\n",
       "\n"
      ],
      "text/plain": [
       "[1] 393   1"
      ]
     },
     "metadata": {},
     "output_type": "display_data"
    }
   ],
   "source": [
    "tm_tr <- tmean[-val_idx,]\n",
    "dim(tm_tr)"
   ]
  },
  {
   "cell_type": "code",
   "execution_count": 14,
   "id": "1fe7b646",
   "metadata": {},
   "outputs": [
    {
     "data": {
      "image/png": "[encoded data removed]",
      "text/plain": [
       "Plot with title “Spatial distribution of Tr & Va points”"
      ]
     },
     "metadata": {
      "image/png": {
       "height": 420,
       "width": 420
      }
     },
     "output_type": "display_data"
    }
   ],
   "source": [
    "plot(tm_tr,col='black', \n",
    "     main=\"Spatial distribution of Tr & Va points\",\n",
    "     xlab=\"Easting [m]\",ylab=\"Northing [m]\")\n",
    "plot(tm_val,col='magenta',add=TRUE)\n",
    "box()\n",
    "axis(1,labels=TRUE)\n",
    "axis(2,labels=TRUE)"
   ]
  },
  {
   "cell_type": "markdown",
   "id": "831e39ce",
   "metadata": {},
   "source": [
    "## Error definition"
   ]
  },
  {
   "cell_type": "code",
   "execution_count": 15,
   "id": "86e79b87",
   "metadata": {},
   "outputs": [],
   "source": [
    "rmse <- function(M,P){\n",
    "    # INPUTS\n",
    "    #  M    : measurements\n",
    "    #  P    : predictions\n",
    "    \n",
    "    n <- length(M)\n",
    "    \n",
    "    E = (M - P)\n",
    "    S = E^2\n",
    "    M = sum(S) / n\n",
    "    R = sqrt(M)\n",
    "    \n",
    "    R\n",
    "}"
   ]
  },
  {
   "cell_type": "code",
   "execution_count": 16,
   "id": "bc12be0a",
   "metadata": {},
   "outputs": [
    {
     "data": {
      "text/html": [
       "0"
      ],
      "text/latex": [
       "0"
      ],
      "text/markdown": [
       "0"
      ],
      "text/plain": [
       "[1] 0"
      ]
     },
     "metadata": {},
     "output_type": "display_data"
    }
   ],
   "source": [
    "rmse( tm_val$Tmean , tm_val$Tmean )"
   ]
  },
  {
   "cell_type": "code",
   "execution_count": 17,
   "id": "991ce539",
   "metadata": {},
   "outputs": [
    {
     "name": "stderr",
     "output_type": "stream",
     "text": [
      "Warning message in M - P:\n",
      "“longer object length is not a multiple of shorter object length”\n"
     ]
    },
    {
     "data": {
      "text/html": [
       "0.558287618268179"
      ],
      "text/latex": [
       "0.558287618268179"
      ],
      "text/markdown": [
       "0.558287618268179"
      ],
      "text/plain": [
       "[1] 0.5582876"
      ]
     },
     "metadata": {},
     "output_type": "display_data"
    }
   ],
   "source": [
    "rmse( tm_val$Tmean , tm_val$Tmean[1:98] )"
   ]
  },
  {
   "cell_type": "code",
   "execution_count": 18,
   "id": "dba47516",
   "metadata": {},
   "outputs": [],
   "source": [
    "rmse <- function(M,P){\n",
    "    # INPUTS\n",
    "    #  M    : measurements\n",
    "    #  P    : predictions\n",
    "    \n",
    "    # Checek that M & P have the same size:\n",
    "    n1 <- length(M)\n",
    "    n2 <- length(P)\n",
    "    if(n1>n2 | n1<n2){\n",
    "        print(\"Input vectors have different size!\")\n",
    "        return(NA)\n",
    "    }\n",
    "    \n",
    "    n <- length(M)\n",
    "    \n",
    "    E = (M - P)\n",
    "    S = E^2\n",
    "    M = sum(S) / n\n",
    "    R = sqrt(M)\n",
    "    \n",
    "    R\n",
    "}"
   ]
  },
  {
   "cell_type": "code",
   "execution_count": 19,
   "id": "847e8187",
   "metadata": {},
   "outputs": [
    {
     "name": "stdout",
     "output_type": "stream",
     "text": [
      "[1] \"Input vectors have different size!\"\n"
     ]
    },
    {
     "data": {
      "text/html": [
       "&lt;NA&gt;"
      ],
      "text/latex": [
       "<NA>"
      ],
      "text/markdown": [
       "&lt;NA&gt;"
      ],
      "text/plain": [
       "[1] NA"
      ]
     },
     "metadata": {},
     "output_type": "display_data"
    }
   ],
   "source": [
    "rmse( tm_val$Tmean , tm_val$Tmean[1:98] )"
   ]
  },
  {
   "cell_type": "markdown",
   "id": "d6f3400c",
   "metadata": {},
   "source": [
    "## Models"
   ]
  },
  {
   "cell_type": "code",
   "execution_count": 20,
   "id": "c9ca531d",
   "metadata": {
    "tags": []
   },
   "outputs": [
    {
     "data": {
      "text/html": [
       "<style>\n",
       ".list-inline {list-style: none; margin:0; padding: 0}\n",
       ".list-inline>li {display: inline-block}\n",
       ".list-inline>li:not(:last-child)::after {content: \"\\00b7\"; padding: 0 .5ex}\n",
       "</style>\n",
       "<ol class=list-inline><li>0</li><li>0</li><li>0</li><li>0</li><li>0</li><li>0</li></ol>\n"
      ],
      "text/latex": [
       "\\begin{enumerate*}\n",
       "\\item 0\n",
       "\\item 0\n",
       "\\item 0\n",
       "\\item 0\n",
       "\\item 0\n",
       "\\item 0\n",
       "\\end{enumerate*}\n"
      ],
      "text/markdown": [
       "1. 0\n",
       "2. 0\n",
       "3. 0\n",
       "4. 0\n",
       "5. 0\n",
       "6. 0\n",
       "\n",
       "\n"
      ],
      "text/plain": [
       "[1] 0 0 0 0 0 0"
      ]
     },
     "metadata": {},
     "output_type": "display_data"
    }
   ],
   "source": [
    "tm_mod <- vector(length=n_val,mode='numeric')\n",
    "head(tm_mod)"
   ]
  },
  {
   "cell_type": "markdown",
   "id": "e1a87b71",
   "metadata": {},
   "source": [
    "### NULL Model"
   ]
  },
  {
   "cell_type": "code",
   "execution_count": 21,
   "id": "a94cb472",
   "metadata": {},
   "outputs": [],
   "source": [
    "tm_null = tm_mod"
   ]
  },
  {
   "cell_type": "code",
   "execution_count": 22,
   "id": "f6bbb55a",
   "metadata": {
    "tags": []
   },
   "outputs": [
    {
     "data": {
      "text/html": [
       "<style>\n",
       ".list-inline {list-style: none; margin:0; padding: 0}\n",
       ".list-inline>li {display: inline-block}\n",
       ".list-inline>li:not(:last-child)::after {content: \"\\00b7\"; padding: 0 .5ex}\n",
       "</style>\n",
       "<ol class=list-inline><li>3.62317564072541</li><li>3.62317564072541</li><li>3.62317564072541</li><li>3.62317564072541</li><li>3.62317564072541</li><li>3.62317564072541</li></ol>\n"
      ],
      "text/latex": [
       "\\begin{enumerate*}\n",
       "\\item 3.62317564072541\n",
       "\\item 3.62317564072541\n",
       "\\item 3.62317564072541\n",
       "\\item 3.62317564072541\n",
       "\\item 3.62317564072541\n",
       "\\item 3.62317564072541\n",
       "\\end{enumerate*}\n"
      ],
      "text/markdown": [
       "1. 3.62317564072541\n",
       "2. 3.62317564072541\n",
       "3. 3.62317564072541\n",
       "4. 3.62317564072541\n",
       "5. 3.62317564072541\n",
       "6. 3.62317564072541\n",
       "\n",
       "\n"
      ],
      "text/plain": [
       "[1] 3.623176 3.623176 3.623176 3.623176 3.623176 3.623176"
      ]
     },
     "metadata": {},
     "output_type": "display_data"
    }
   ],
   "source": [
    "tm_null[1:n_val] <- mean(tm_tr$Tmean)\n",
    "head(tm_null)"
   ]
  },
  {
   "cell_type": "code",
   "execution_count": 23,
   "id": "923300cb",
   "metadata": {},
   "outputs": [
    {
     "data": {
      "text/html": [
       "1.98449031160638"
      ],
      "text/latex": [
       "1.98449031160638"
      ],
      "text/markdown": [
       "1.98449031160638"
      ],
      "text/plain": [
       "[1] 1.98449"
      ]
     },
     "metadata": {},
     "output_type": "display_data"
    }
   ],
   "source": [
    "RMSE_NULL <- rmse(tm_val$Tmean,tm_null)\n",
    "RMSE_NULL"
   ]
  },
  {
   "cell_type": "code",
   "execution_count": 24,
   "id": "28b2dfa7",
   "metadata": {},
   "outputs": [
    {
     "data": {
      "image/png": "[encoded data removed]",
      "text/plain": [
       "plot without title"
      ]
     },
     "metadata": {
      "image/png": {
       "height": 420,
       "width": 420
      }
     },
     "output_type": "display_data"
    }
   ],
   "source": [
    "plot(tm_val$Tmean,tm_null,type='p')"
   ]
  },
  {
   "cell_type": "markdown",
   "id": "c30d240d",
   "metadata": {},
   "source": [
    "### Proximity Model"
   ]
  },
  {
   "cell_type": "code",
   "execution_count": 25,
   "id": "50846ff6",
   "metadata": {
    "tags": []
   },
   "outputs": [
    {
     "name": "stderr",
     "output_type": "stream",
     "text": [
      "Loading required package: gstat\n",
      "\n"
     ]
    }
   ],
   "source": [
    "require(gstat)"
   ]
  },
  {
   "cell_type": "code",
   "execution_count": 26,
   "id": "c748212b",
   "metadata": {},
   "outputs": [
    {
     "name": "stdout",
     "output_type": "stream",
     "text": [
      "[inverse distance weighted interpolation]\n"
     ]
    },
    {
     "data": {
      "text/plain": [
       "Object of class SpatialPointsDataFrame\n",
       "Coordinates:\n",
       "           min     max\n",
       "Xcoord  401949  567061\n",
       "Ycoord 4431432 4586090\n",
       "Is projected: TRUE \n",
       "proj4string :\n",
       "[+proj=utm +zone=33 +datum=WGS84 +units=m +no_defs]\n",
       "Number of points: 100\n",
       "Data attributes:\n",
       "   var1.pred          var1.var  \n",
       " Min.   : 0.4889   Min.   : NA  \n",
       " 1st Qu.: 1.9310   1st Qu.: NA  \n",
       " Median : 3.3429   Median : NA  \n",
       " Mean   : 3.5273   Mean   :NaN  \n",
       " 3rd Qu.: 4.7470   3rd Qu.: NA  \n",
       " Max.   :11.3882   Max.   : NA  \n",
       "                   NA's   :100  "
      ]
     },
     "metadata": {},
     "output_type": "display_data"
    }
   ],
   "source": [
    "tm_thie <- idw(Tmean~1,tm_tr,newdata=tm_val,nmax=1)\n",
    "summary(tm_thie)"
   ]
  },
  {
   "cell_type": "code",
   "execution_count": 27,
   "id": "9bbafc6b",
   "metadata": {},
   "outputs": [
    {
     "data": {
      "text/html": [
       "1.54731817986328"
      ],
      "text/latex": [
       "1.54731817986328"
      ],
      "text/markdown": [
       "1.54731817986328"
      ],
      "text/plain": [
       "[1] 1.547318"
      ]
     },
     "metadata": {},
     "output_type": "display_data"
    }
   ],
   "source": [
    "RMSE_THIES <- rmse(tm_val$Tmean,tm_thie$var1.pred)\n",
    "RMSE_THIES"
   ]
  },
  {
   "cell_type": "code",
   "execution_count": 28,
   "id": "a3de1a2e",
   "metadata": {},
   "outputs": [
    {
     "data": {
      "image/png": "[encoded data removed]",
      "text/plain": [
       "Plot with title “Comparison Measurements vs Predictions”"
      ]
     },
     "metadata": {
      "image/png": {
       "height": 420,
       "width": 420
      }
     },
     "output_type": "display_data"
    }
   ],
   "source": [
    "plot(tm_val$Tmean,tm_thie$var1.pred,type='p',\n",
    "     xlab=\"Validation measurements [°C]\",\n",
    "     ylab=\"Proximity interpolation [°C]\",\n",
    "     main=\"Comparison Measurements vs Predictions\"\n",
    "    )"
   ]
  },
  {
   "cell_type": "markdown",
   "id": "41599c0b",
   "metadata": {},
   "source": [
    "### Nearest Neighbour"
   ]
  },
  {
   "cell_type": "code",
   "execution_count": 29,
   "id": "7803542d",
   "metadata": {},
   "outputs": [
    {
     "name": "stdout",
     "output_type": "stream",
     "text": [
      "[inverse distance weighted interpolation]\n"
     ]
    }
   ],
   "source": [
    "tm_nn <- idw(Tmean~1,tm_tr,newdata=tm_val,idp=0,nmax=3)"
   ]
  },
  {
   "cell_type": "code",
   "execution_count": 30,
   "id": "fb212372",
   "metadata": {},
   "outputs": [
    {
     "data": {
      "text/html": [
       "1.58877740448982"
      ],
      "text/latex": [
       "1.58877740448982"
      ],
      "text/markdown": [
       "1.58877740448982"
      ],
      "text/plain": [
       "[1] 1.588777"
      ]
     },
     "metadata": {},
     "output_type": "display_data"
    }
   ],
   "source": [
    "RMSE_NN <- rmse(tm_val$Tmean,tm_nn$var1.pred)\n",
    "RMSE_NN"
   ]
  },
  {
   "cell_type": "code",
   "execution_count": 31,
   "id": "a9515669",
   "metadata": {},
   "outputs": [
    {
     "data": {
      "image/png": "[encoded data removed]",
      "text/plain": [
       "Plot with title “Comparison Measurements vs Predictions”"
      ]
     },
     "metadata": {
      "image/png": {
       "height": 420,
       "width": 420
      }
     },
     "output_type": "display_data"
    }
   ],
   "source": [
    "plot(tm_val$Tmean,tm_nn$var1.pred,type='p',\n",
    "     xlab=\"Validation measurements [°C]\",\n",
    "     ylab=\"Nearest-Neighbour interpolation [°C]\",\n",
    "     main=\"Comparison Measurements vs Predictions\"    \n",
    "    )"
   ]
  },
  {
   "cell_type": "markdown",
   "id": "8dae8166",
   "metadata": {},
   "source": [
    "### Inverse Distance Weigthed"
   ]
  },
  {
   "cell_type": "code",
   "execution_count": 32,
   "id": "b83f7ce9",
   "metadata": {},
   "outputs": [
    {
     "name": "stdout",
     "output_type": "stream",
     "text": [
      "[inverse distance weighted interpolation]\n"
     ]
    }
   ],
   "source": [
    "tm_idw <- idw(Tmean~1,tm_tr,newdata=tm_val,idp=2,\n",
    "    maxdis=12000,nmin=4,nmax=10\n",
    "   )"
   ]
  },
  {
   "cell_type": "code",
   "execution_count": 33,
   "id": "7d1058f1",
   "metadata": {
    "tags": []
   },
   "outputs": [
    {
     "data": {
      "text/html": [
       "<style>\n",
       ".list-inline {list-style: none; margin:0; padding: 0}\n",
       ".list-inline>li {display: inline-block}\n",
       ".list-inline>li:not(:last-child)::after {content: \"\\00b7\"; padding: 0 .5ex}\n",
       "</style>\n",
       "<ol class=list-inline><li>5.09532372595231</li><li>&lt;NA&gt;</li><li>2.8569216549567</li><li>2.32875437146677</li><li>6.62399232230051</li><li>3.57403354071573</li></ol>\n"
      ],
      "text/latex": [
       "\\begin{enumerate*}\n",
       "\\item 5.09532372595231\n",
       "\\item <NA>\n",
       "\\item 2.8569216549567\n",
       "\\item 2.32875437146677\n",
       "\\item 6.62399232230051\n",
       "\\item 3.57403354071573\n",
       "\\end{enumerate*}\n"
      ],
      "text/markdown": [
       "1. 5.09532372595231\n",
       "2. &lt;NA&gt;\n",
       "3. 2.8569216549567\n",
       "4. 2.32875437146677\n",
       "5. 6.62399232230051\n",
       "6. 3.57403354071573\n",
       "\n",
       "\n"
      ],
      "text/plain": [
       "[1] 5.095324       NA 2.856922 2.328754 6.623992 3.574034"
      ]
     },
     "metadata": {},
     "output_type": "display_data"
    }
   ],
   "source": [
    "head(tm_idw$var1.pred)"
   ]
  },
  {
   "cell_type": "code",
   "execution_count": 34,
   "id": "e95cd414",
   "metadata": {},
   "outputs": [
    {
     "data": {
      "text/html": [
       "&lt;NA&gt;"
      ],
      "text/latex": [
       "<NA>"
      ],
      "text/markdown": [
       "&lt;NA&gt;"
      ],
      "text/plain": [
       "[1] NA"
      ]
     },
     "metadata": {},
     "output_type": "display_data"
    }
   ],
   "source": [
    "sum(tm_idw$var1.pred)"
   ]
  },
  {
   "cell_type": "code",
   "execution_count": 35,
   "id": "6f03526a",
   "metadata": {},
   "outputs": [
    {
     "data": {
      "text/html": [
       "354.177243569076"
      ],
      "text/latex": [
       "354.177243569076"
      ],
      "text/markdown": [
       "354.177243569076"
      ],
      "text/plain": [
       "[1] 354.1772"
      ]
     },
     "metadata": {},
     "output_type": "display_data"
    }
   ],
   "source": [
    "sum(tm_idw$var1.pred,na.rm=TRUE)"
   ]
  },
  {
   "cell_type": "code",
   "execution_count": 36,
   "id": "3a3621eb",
   "metadata": {},
   "outputs": [
    {
     "data": {
      "text/html": [
       "&lt;NA&gt;"
      ],
      "text/latex": [
       "<NA>"
      ],
      "text/markdown": [
       "&lt;NA&gt;"
      ],
      "text/plain": [
       "[1] NA"
      ]
     },
     "metadata": {},
     "output_type": "display_data"
    }
   ],
   "source": [
    "rmse(tm_val$Tmean,tm_idw$var1.pred)"
   ]
  },
  {
   "cell_type": "code",
   "execution_count": 37,
   "id": "96cd0949",
   "metadata": {},
   "outputs": [],
   "source": [
    "rmse <- function(M,P){\n",
    "    # INPUTS\n",
    "    #  M    : measurements\n",
    "    #  P    : predictions\n",
    "    \n",
    "    # Checek that M & P have the same size:\n",
    "    n1 <- length(M)\n",
    "    n2 <- length(P)\n",
    "    if(n1>n2 | n1<n2){\n",
    "        print(\"Input vectors have different size!\")\n",
    "        return(NA)\n",
    "    }\n",
    "    \n",
    "    n <- length(M)\n",
    "    \n",
    "    E = (M - P)\n",
    "    S = E^2\n",
    "    M = sum(S,na.rm=TRUE) / n\n",
    "    R = sqrt(M)\n",
    "    R\n",
    "}"
   ]
  },
  {
   "cell_type": "code",
   "execution_count": 38,
   "id": "a760dc8f",
   "metadata": {},
   "outputs": [
    {
     "data": {
      "text/html": [
       "1.50721616031581"
      ],
      "text/latex": [
       "1.50721616031581"
      ],
      "text/markdown": [
       "1.50721616031581"
      ],
      "text/plain": [
       "[1] 1.507216"
      ]
     },
     "metadata": {},
     "output_type": "display_data"
    }
   ],
   "source": [
    "rmse(tm_val$Tmean,tm_idw$var1.pred)"
   ]
  },
  {
   "cell_type": "markdown",
   "id": "bcade8ba",
   "metadata": {},
   "source": [
    "Explain the difference between the rmse function w/out **na.rm=TRUE**:"
   ]
  },
  {
   "cell_type": "code",
   "execution_count": 39,
   "id": "2c9abd30",
   "metadata": {},
   "outputs": [],
   "source": [
    "M <- tm_val$Tmean\n",
    "P <- tm_idw$var1.pred"
   ]
  },
  {
   "cell_type": "code",
   "execution_count": 40,
   "id": "0a16b5d3",
   "metadata": {},
   "outputs": [],
   "source": [
    "n <- length(M)\n",
    "E = (M - P)\n",
    "S = E^2\n",
    "M = sum(S) / n"
   ]
  },
  {
   "cell_type": "code",
   "execution_count": 41,
   "id": "7ccc0ee0",
   "metadata": {},
   "outputs": [
    {
     "data": {
      "text/html": [
       "&lt;NA&gt;"
      ],
      "text/latex": [
       "<NA>"
      ],
      "text/markdown": [
       "&lt;NA&gt;"
      ],
      "text/plain": [
       "[1] NA"
      ]
     },
     "metadata": {},
     "output_type": "display_data"
    }
   ],
   "source": [
    "M"
   ]
  },
  {
   "cell_type": "code",
   "execution_count": 42,
   "id": "f0b81190",
   "metadata": {},
   "outputs": [
    {
     "data": {
      "text/html": [
       "1.50721616031581"
      ],
      "text/latex": [
       "1.50721616031581"
      ],
      "text/markdown": [
       "1.50721616031581"
      ],
      "text/plain": [
       "[1] 1.507216"
      ]
     },
     "metadata": {},
     "output_type": "display_data"
    }
   ],
   "source": [
    "M = sum(S,na.rm=TRUE) / n\n",
    "sqrt(M)"
   ]
  },
  {
   "cell_type": "code",
   "execution_count": 43,
   "id": "d31457e3",
   "metadata": {},
   "outputs": [
    {
     "data": {
      "text/html": [
       "1.50721616031581"
      ],
      "text/latex": [
       "1.50721616031581"
      ],
      "text/markdown": [
       "1.50721616031581"
      ],
      "text/plain": [
       "[1] 1.507216"
      ]
     },
     "metadata": {},
     "output_type": "display_data"
    }
   ],
   "source": [
    "RMSE_IDW <- rmse(tm_val$Tmean,tm_idw$var1.pred)\n",
    "RMSE_IDW"
   ]
  },
  {
   "cell_type": "code",
   "execution_count": 44,
   "id": "170dc0eb",
   "metadata": {},
   "outputs": [
    {
     "data": {
      "image/png": "[encoded data removed]",
      "text/plain": [
       "Plot with title “Comparison Measurements vs Predictions”"
      ]
     },
     "metadata": {
      "image/png": {
       "height": 420,
       "width": 420
      }
     },
     "output_type": "display_data"
    }
   ],
   "source": [
    "plot(tm_val$Tmean,tm_nn$var1.pred,type='p',\n",
    "     xlab=\"Validation measurements [°C]\",\n",
    "     ylab=\"IDW interpolation [°C]\",\n",
    "     main=\"Comparison Measurements vs Predictions\"    \n",
    "    )     "
   ]
  },
  {
   "cell_type": "markdown",
   "id": "79b407a7",
   "metadata": {},
   "source": [
    "### Kriging"
   ]
  },
  {
   "cell_type": "code",
   "execution_count": 45,
   "id": "4de26560",
   "metadata": {},
   "outputs": [
    {
     "data": {
      "image/png": "[encoded data removed]",
      "text/plain": [
       "plot without title"
      ]
     },
     "metadata": {
      "image/png": {
       "height": 420,
       "width": 420
      }
     },
     "output_type": "display_data"
    }
   ],
   "source": [
    "tm.vgm <- variogram(Tmean~1,tm_tr)\n",
    "plot(tm.vgm)"
   ]
  },
  {
   "cell_type": "code",
   "execution_count": 46,
   "id": "47463f0c",
   "metadata": {},
   "outputs": [
    {
     "data": {
      "image/png": "[encoded data removed]",
      "text/plain": [
       "plot without title"
      ]
     },
     "metadata": {
      "image/png": {
       "height": 420,
       "width": 420
      }
     },
     "output_type": "display_data"
    }
   ],
   "source": [
    "tm.mod <- fit.variogram(tm.vgm,model=vgm(5,'Exp',20000,1))\n",
    "plot(tm.vgm,tm.mod)"
   ]
  },
  {
   "cell_type": "code",
   "execution_count": 47,
   "id": "63e07f66",
   "metadata": {},
   "outputs": [
    {
     "data": {
      "text/html": [
       "<table class=\"dataframe\">\n",
       "<caption>A variogramModel: 2 × 9</caption>\n",
       "<thead>\n",
       "\t<tr><th></th><th scope=col>model</th><th scope=col>psill</th><th scope=col>range</th><th scope=col>kappa</th><th scope=col>ang1</th><th scope=col>ang2</th><th scope=col>ang3</th><th scope=col>anis1</th><th scope=col>anis2</th></tr>\n",
       "\t<tr><th></th><th scope=col>&lt;fct&gt;</th><th scope=col>&lt;dbl&gt;</th><th scope=col>&lt;dbl&gt;</th><th scope=col>&lt;dbl&gt;</th><th scope=col>&lt;dbl&gt;</th><th scope=col>&lt;dbl&gt;</th><th scope=col>&lt;dbl&gt;</th><th scope=col>&lt;dbl&gt;</th><th scope=col>&lt;dbl&gt;</th></tr>\n",
       "</thead>\n",
       "<tbody>\n",
       "\t<tr><th scope=row>1</th><td>Nug</td><td>0.000000</td><td>    0.00</td><td>0.0</td><td>0</td><td>0</td><td>0</td><td>1</td><td>1</td></tr>\n",
       "\t<tr><th scope=row>2</th><td>Exp</td><td>6.757928</td><td>16186.66</td><td>0.5</td><td>0</td><td>0</td><td>0</td><td>1</td><td>1</td></tr>\n",
       "</tbody>\n",
       "</table>\n"
      ],
      "text/latex": [
       "A variogramModel: 2 × 9\n",
       "\\begin{tabular}{r|lllllllll}\n",
       "  & model & psill & range & kappa & ang1 & ang2 & ang3 & anis1 & anis2\\\\\n",
       "  & <fct> & <dbl> & <dbl> & <dbl> & <dbl> & <dbl> & <dbl> & <dbl> & <dbl>\\\\\n",
       "\\hline\n",
       "\t1 & Nug & 0.000000 &     0.00 & 0.0 & 0 & 0 & 0 & 1 & 1\\\\\n",
       "\t2 & Exp & 6.757928 & 16186.66 & 0.5 & 0 & 0 & 0 & 1 & 1\\\\\n",
       "\\end{tabular}\n"
      ],
      "text/markdown": [
       "\n",
       "A variogramModel: 2 × 9\n",
       "\n",
       "| <!--/--> | model &lt;fct&gt; | psill &lt;dbl&gt; | range &lt;dbl&gt; | kappa &lt;dbl&gt; | ang1 &lt;dbl&gt; | ang2 &lt;dbl&gt; | ang3 &lt;dbl&gt; | anis1 &lt;dbl&gt; | anis2 &lt;dbl&gt; |\n",
       "|---|---|---|---|---|---|---|---|---|---|\n",
       "| 1 | Nug | 0.000000 |     0.00 | 0.0 | 0 | 0 | 0 | 1 | 1 |\n",
       "| 2 | Exp | 6.757928 | 16186.66 | 0.5 | 0 | 0 | 0 | 1 | 1 |\n",
       "\n"
      ],
      "text/plain": [
       "  model psill    range    kappa ang1 ang2 ang3 anis1 anis2\n",
       "1 Nug   0.000000     0.00 0.0   0    0    0    1     1    \n",
       "2 Exp   6.757928 16186.66 0.5   0    0    0    1     1    "
      ]
     },
     "metadata": {},
     "output_type": "display_data"
    }
   ],
   "source": [
    "tm.mod"
   ]
  },
  {
   "cell_type": "code",
   "execution_count": 48,
   "id": "735dac88",
   "metadata": {},
   "outputs": [
    {
     "name": "stdout",
     "output_type": "stream",
     "text": [
      "[using ordinary kriging]\n"
     ]
    },
    {
     "data": {
      "text/plain": [
       "Object of class SpatialPointsDataFrame\n",
       "Coordinates:\n",
       "           min     max\n",
       "Xcoord  401949  567061\n",
       "Ycoord 4431432 4586090\n",
       "Is projected: TRUE \n",
       "proj4string :\n",
       "[+proj=utm +zone=33 +datum=WGS84 +units=m +no_defs]\n",
       "Number of points: 100\n",
       "Data attributes:\n",
       "   var1.pred         var1.var     \n",
       " Min.   :0.7158   Min.   :0.1462  \n",
       " 1st Qu.:1.8916   1st Qu.:1.0288  \n",
       " Median :3.5419   Median :1.4309  \n",
       " Mean   :3.6231   Mean   :1.4310  \n",
       " 3rd Qu.:4.5987   3rd Qu.:1.8420  \n",
       " Max.   :9.5322   Max.   :3.5776  \n",
       " NA's   :4        NA's   :4       "
      ]
     },
     "metadata": {},
     "output_type": "display_data"
    }
   ],
   "source": [
    "tm_kr <- krige(Tmean~1,tm_tr,model=tm.mod,\n",
    "                   newdata=tm_val,\n",
    "                   maxdist=12000,nmin=4,nmax=10\n",
    "                  )\n",
    "summary(tm_kr)"
   ]
  },
  {
   "cell_type": "code",
   "execution_count": 49,
   "id": "e1dc7c6d",
   "metadata": {},
   "outputs": [
    {
     "data": {
      "text/html": [
       "1.48468830397586"
      ],
      "text/latex": [
       "1.48468830397586"
      ],
      "text/markdown": [
       "1.48468830397586"
      ],
      "text/plain": [
       "[1] 1.484688"
      ]
     },
     "metadata": {},
     "output_type": "display_data"
    }
   ],
   "source": [
    "RMSE_KR <- rmse(tm_val$Tmean,tm_kr$var1.pred)\n",
    "RMSE_KR"
   ]
  },
  {
   "cell_type": "code",
   "execution_count": 50,
   "id": "2dbeac1d",
   "metadata": {},
   "outputs": [
    {
     "data": {
      "image/png": "[encoded data removed]",
      "text/plain": [
       "plot without title"
      ]
     },
     "metadata": {
      "image/png": {
       "height": 420,
       "width": 420
      }
     },
     "output_type": "display_data"
    }
   ],
   "source": [
    "plot(tm_val$Tmean,tm_kr$var1.pred,type='p')"
   ]
  },
  {
   "cell_type": "markdown",
   "id": "0859ad1d",
   "metadata": {},
   "source": [
    "## Selection"
   ]
  },
  {
   "cell_type": "code",
   "execution_count": 51,
   "id": "a93096ab",
   "metadata": {},
   "outputs": [
    {
     "data": {
      "text/html": [
       "1.98449031160638"
      ],
      "text/latex": [
       "1.98449031160638"
      ],
      "text/markdown": [
       "1.98449031160638"
      ],
      "text/plain": [
       "[1] 1.98449"
      ]
     },
     "metadata": {},
     "output_type": "display_data"
    },
    {
     "data": {
      "text/html": [
       "1.54731817986328"
      ],
      "text/latex": [
       "1.54731817986328"
      ],
      "text/markdown": [
       "1.54731817986328"
      ],
      "text/plain": [
       "[1] 1.547318"
      ]
     },
     "metadata": {},
     "output_type": "display_data"
    },
    {
     "data": {
      "text/html": [
       "1.58877740448982"
      ],
      "text/latex": [
       "1.58877740448982"
      ],
      "text/markdown": [
       "1.58877740448982"
      ],
      "text/plain": [
       "[1] 1.588777"
      ]
     },
     "metadata": {},
     "output_type": "display_data"
    },
    {
     "data": {
      "text/html": [
       "1.50721616031581"
      ],
      "text/latex": [
       "1.50721616031581"
      ],
      "text/markdown": [
       "1.50721616031581"
      ],
      "text/plain": [
       "[1] 1.507216"
      ]
     },
     "metadata": {},
     "output_type": "display_data"
    },
    {
     "data": {
      "text/html": [
       "1.48468830397586"
      ],
      "text/latex": [
       "1.48468830397586"
      ],
      "text/markdown": [
       "1.48468830397586"
      ],
      "text/plain": [
       "[1] 1.484688"
      ]
     },
     "metadata": {},
     "output_type": "display_data"
    }
   ],
   "source": [
    "RMSE_NULL\n",
    "RMSE_THIES\n",
    "RMSE_NN\n",
    "RMSE_IDW\n",
    "RMSE_KR"
   ]
  },
  {
   "cell_type": "markdown",
   "id": "4e06a9f3",
   "metadata": {},
   "source": [
    "Pretty print:"
   ]
  },
  {
   "cell_type": "code",
   "execution_count": 52,
   "id": "6dcaf437",
   "metadata": {},
   "outputs": [
    {
     "name": "stdout",
     "output_type": "stream",
     "text": [
      "[1] \"NULL        : 1.98449031160638\"\n",
      "[1] \"THIESSN     : 1.54731817986328\"\n",
      "[1] \"NEIR-NEIGH  : 1.58877740448982\"\n",
      "[1] \"IDW         : 1.50721616031581\"\n",
      "[1] \"KRIGING     : 1.48468830397586\"\n"
     ]
    }
   ],
   "source": [
    "print( paste0(\"NULL        : \",RMSE_NULL)  )\n",
    "print( paste0(\"THIESSN     : \",RMSE_THIES) )\n",
    "print( paste0(\"NEIR-NEIGH  : \",RMSE_NN)    )\n",
    "print( paste0(\"IDW         : \",RMSE_IDW)   )\n",
    "print( paste0(\"KRIGING     : \",RMSE_KR)    )"
   ]
  }
 ],
 "metadata": {
  "kernelspec": {
   "display_name": "R",
   "language": "R",
   "name": "ir"
  },
  "language_info": {
   "codemirror_mode": "r",
   "file_extension": ".r",
   "mimetype": "text/x-r-source",
   "name": "R",
   "pygments_lexer": "r",
   "version": "4.0.5"
  },
  "widgets": {
   "application/vnd.jupyter.widget-state+json": {
    "state": {},
    "version_major": 2,
    "version_minor": 0
   }
  }
 },
 "nbformat": 4,
 "nbformat_minor": 5
}
