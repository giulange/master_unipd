{
 "cells": [
  {
   "cell_type": "markdown",
   "id": "2b93a763",
   "metadata": {},
   "source": [
    "<a id='TOP'></a>\n",
    "# Lecture 01"
   ]
  },
  {
   "cell_type": "markdown",
   "id": "7abcafa7",
   "metadata": {},
   "source": [
    "Day<br>09-Apr-2022 | duration<br>(min) | Block | Argument details\n",
    ":------------------|:------------------|:------|:-----------------\n",
    "14:30 | 20 | B01 | [Intro to R](#block_01)\n",
    "14:50 | 10 | B01 |Q\n",
    "15:00 | 20 | B02 | [I / O operations in R](#block_02)\n",
    "15:20 | 10 | B02 | Q\n",
    "15:30 | 20 | B03 | [Geodata manipulation in R: vector data model](#block_04)\n",
    "15:50 | 10 | B03 | Q\n",
    "16:00 | 30 | BREAK\n",
    "16:30 | 20 | B04 | [Data manipulation in R](#block_05)\n",
    "16:50 | 10 | B04 | Q\n",
    "17:00 | 20 | B05 | [Geodata manipulation in R: raster data model](#block_06)\n",
    "17:20 | 10 | B05 | Q\n",
    "17:30 | 20 | B06 |[EDA & Variography in R](#block_03)\n",
    "17:50 | 10 | B06 | Q"
   ]
  },
  {
   "cell_type": "markdown",
   "id": "383a4f96",
   "metadata": {},
   "source": [
    "<a id='block_01'></a>\n",
    "## Intro to R\n",
    "<a href='#TOP'>^ TOP ^</a>"
   ]
  },
  {
   "cell_type": "markdown",
   "id": "5e27a1a4",
   "metadata": {},
   "source": [
    "[Hands-on programming with R](https://rstudio-education.github.io/hopr/), free online book\n",
    "\n",
    " - [Appendix A](https://rstudio-education.github.io/hopr/starting.html), Install \n",
    " - [Appendix B, C](https://rstudio-education.github.io/hopr/packages2.html), R packages management\n",
    " - [Appendix D](https://rstudio-education.github.io/hopr/dataio.html), Load & save data using R\n",
    " - [Chapter 2](https://rstudio-education.github.io/hopr/basics.html), R Basics\n",
    " - [Chapter 5](https://rstudio-education.github.io/hopr/r-objects.html), R Objects\n",
    " \n",
    " <br>\n",
    " \n",
    " - Introduction to RStudio IDE\n",
    "   > main panels: console, source, <a style=\"color:gray\">(plot, environment, files, packages, history)</a>\n",
    "   \n",
    "   <br>\n",
    " - RStudio – Basic operations\n",
    "   > basic_operations_in_R.R\n",
    "   \n",
    " - Esercizio\n",
    "   - creare un oggetto numerico di 3 elementi inserendo il giorno, mese ed anno di nascita\n",
    "   - creare un oggeto character di due (o più elementi) in cui inserire il proprio nome e cognome"
   ]
  },
  {
   "cell_type": "markdown",
   "id": "ed05674d",
   "metadata": {},
   "source": [
    "<a id='block_02'></a>\n",
    "## I / O operations in R\n",
    "<a href='#TOP'>^ TOP ^</a>\n",
    "\n",
    " - built-in data\n",
    "   > data_function.R\n",
    " - covid data: openness & remote access\n",
    "   > covid_cases.R\n",
    " - climate data: interoperability & webAPI\n",
    "   > CAR_daily_rainfall.R\n",
    " - <a style=\"color:gray\">[soil / environmental data: see vector & raster data]</a>\n",
    " \n",
    " \n",
    " - Esercizio\n",
    "   - selezionare la colonna delle precipitazioni\n",
    "   - realizzare un plot delle precipitazioni\n",
    "   - calcolare il numero di stazioni con precipitazioni superiori o uguali a 2 mm"
   ]
  },
  {
   "cell_type": "markdown",
   "id": "5de9aa0e",
   "metadata": {},
   "source": [
    "<a id='block_04'></a>\n",
    "## Geodata manipulation in R: <b style=\"color:magenta\">vector data model</b>\n",
    "<a href='#TOP'>^ TOP ^</a>"
   ]
  },
  {
   "cell_type": "markdown",
   "id": "2a3f6970",
   "metadata": {},
   "source": [
    " - Simple Feature Standard <b style=\"color:gray\">(reduced version)</b> <br>\n",
    "   > [Introduction to Vector Geospatial Objects and Analysis](L01_B03_Introduction_to_Vector_Geospatial_Objects_and_Analysis__SF.ipynb)\n",
    " - example: create a point geometry from scratch (google maps --> 4326 --> projection)\n",
    " - import shapefile / geojson\n",
    " - export geojson\n",
    "   > SF_readwrite.R\n",
    "\n",
    " - Esercizio\n",
    "   - importare il geodato vettoriale `rain_daily.geojson` delle precipitazioni in R\n",
    "   - visualizzare la tabella dati – print() , View() , ...\n",
    "   - realizzare una mappa dei punti geospaziali (usare il colore del simbolo per rappresentare la magnitudine della variabile) – suggerimento: plot() , tm_shape() , ...\n",
    "\n",
    "<br>\n",
    "\n",
    "**References**<br>\n",
    "Pebesma, Edzer. 2018. “Simple Features for R: Standardized Support for Spatial Vector Data.” The R Journal 10 (1): 439–46. https://doi.org/10.32614/RJ-2018-009."
   ]
  },
  {
   "cell_type": "markdown",
   "id": "6f2fc812",
   "metadata": {},
   "source": [
    "<a id='block_05'></a>\n",
    "## Data manipulation in R\n",
    "<a href='#TOP'>^ TOP ^</a>"
   ]
  },
  {
   "cell_type": "markdown",
   "id": "65abd807",
   "metadata": {},
   "source": [
    "Create a function:\n",
    " > covid_cases_map.R\n",
    " \n",
    " > covid_casesIncrements_map.R\n",
    " \n",
    "dplyr (filter, select, aggregate, mutate)\n",
    " > CAR_10m_rainfall.R\n",
    " \n",
    " > [cheat sheet](https://www.rstudio.com/wp-content/uploads/2015/02/data-wrangling-cheatsheet.pdf)\n",
    " \n",
    "Esercizio\n",
    " - invocare la funzione plot_todayDiff_c19_totcases() per la data 15 Novembre 2021\n",
    " - selezionare le misure a 10 minuti per la stazione di `Avellino Genio Civile` dal data.frame `r_m10`\n",
    " - calcolare il totale giornaliero per la stazione di cui al precedente punto\n",
    " - quanti elementi temporali (10-min) sono stati piovosi per la stazione selezionata?"
   ]
  },
  {
   "cell_type": "markdown",
   "id": "cdb71df5",
   "metadata": {},
   "source": [
    "<a id='block_06'></a>\n",
    "## Geodata manipulation in R: <b style=\"color:magenta\">raster data model</b>\n",
    "<a href='#TOP'>^ TOP ^</a>"
   ]
  },
  {
   "cell_type": "markdown",
   "id": "d47391d1",
   "metadata": {},
   "source": [
    " - raster data model in R (raster package)\n",
    "   > [Raster Data Model in R](L01_B05_Raster_Data_Model_in_R.ipynb)\n",
    " - climate data: interoperability & datacubes\n",
    "   > one example using either COSMO or ERA5LAND\n",
    "\n",
    "<br>\n",
    "\n",
    "\n",
    "Esercizio\n",
    " - importare il DEM della Campania\n",
    "   - path: /didattica/docente_Langella/Raster-Data/\n",
    "   - file: dem20m_campania.tif\n",
    " - leggere il valore di quota per il pixel di coordinate matriciali riga=700, colonna=800\n",
    " - (avanzato) leggere il valore di quota nel punto di coordinate X=460000, Y=4500000 (funzione <b>extract()</b>)\n",
    "\n",
    "\n",
    "**References**<br>\n",
    "Book: [<i>Spatial Data Science</i>, by Pebesma & Bivand](https://keen-swartz-3146c4.netlify.app/)"
   ]
  },
  {
   "cell_type": "markdown",
   "id": "95d563dd",
   "metadata": {},
   "source": [
    "<a id='block_03'></a>\n",
    "## EDA & Variography in R\n",
    "<a href='#TOP'>^ TOP ^</a>"
   ]
  },
  {
   "cell_type": "markdown",
   "id": "a7cfbd76",
   "metadata": {},
   "source": [
    "*EDA: Exploratory data analysis\n",
    "\n",
    "> EDA_&_variography_rainfall.R\n",
    "\n",
    "\n",
    "Esercizio (anche per casa)\n",
    " - generare il variogramma sperimentale del cadmio nel dataset `meuse` (dato built-in in R, pacchetto `sp`)"
   ]
  }
 ],
 "metadata": {
  "kernelspec": {
   "display_name": "R",
   "language": "R",
   "name": "ir"
  },
  "language_info": {
   "codemirror_mode": "r",
   "file_extension": ".r",
   "mimetype": "text/x-r-source",
   "name": "R",
   "pygments_lexer": "r",
   "version": "4.0.5"
  },
  "widgets": {
   "application/vnd.jupyter.widget-state+json": {
    "state": {},
    "version_major": 2,
    "version_minor": 0
   }
  }
 },
 "nbformat": 4,
 "nbformat_minor": 5
}
