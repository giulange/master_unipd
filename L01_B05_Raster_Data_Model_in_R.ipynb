{
 "cells": [
  {
   "cell_type": "markdown",
   "metadata": {
    "kernel": "SoS"
   },
   "source": [
    "# <b style=\"color:red; font-family:verdana\">Raster Data Model</b>"
   ]
  },
  {
   "cell_type": "markdown",
   "metadata": {
    "kernel": "SoS"
   },
   "source": [
    "<br>\n",
    "<b style=\"font-family:Fantasy\">Giuliano Langella</b> &nbsp; &nbsp;\n",
    "<b style=\"font-family:Arial\">glangella@unina.it</b>\n",
    "\n",
    "<b>Tobler's Low of Geography (1970): <br><em>$\\quad$ \"Everything is related to everything else, but near things are more related than distant things\".</em></b>"
   ]
  },
  {
   "cell_type": "markdown",
   "metadata": {
    "kernel": "SoS"
   },
   "source": [
    "### <b style=\"color:#929292\">Useful links</b>\n",
    "https://cran.r-project.org/doc/contrib/intro-spatial-rl.pdf <br>\n",
    "http://www.rspatial.org <br>\n",
    "http://pakillo.github.io/R-GIS-tutorial/#iovec <br>\n",
    "http://www.nickeubank.com/wp-content/uploads/2015/10/ <br>\n",
    "https://www.neonscience.org/resources/learning-hub/tutorials/extract-values-rasters-r <br>\n",
    "https://rspatial.org/raster/spatial/6-crs.html <br>"
   ]
  },
  {
   "cell_type": "code",
   "execution_count": 1,
   "metadata": {
    "hideCode": false,
    "kernel": "R",
    "tags": []
   },
   "outputs": [],
   "source": [
    "library(repr)  # to size plots within Jupyter\n",
    "options(repr.plot.width = 8)"
   ]
  },
  {
   "cell_type": "markdown",
   "metadata": {
    "kernel": "R"
   },
   "source": [
    "---"
   ]
  },
  {
   "cell_type": "markdown",
   "metadata": {
    "kernel": "R"
   },
   "source": [
    "## <b style=\"color:orange\">Coordinate Reference Systems</b>"
   ]
  },
  {
   "cell_type": "markdown",
   "metadata": {},
   "source": [
    "---"
   ]
  },
  {
   "cell_type": "markdown",
   "metadata": {
    "kernel": "R"
   },
   "source": [
    "### Read  <b style=\"color:green\">chapter 09 </b>of following link"
   ]
  },
  {
   "cell_type": "markdown",
   "metadata": {},
   "source": [
    "[Intro to GIS and Spatial Analysis](https://mgimond.github.io/Spatial/chp09-0.html)"
   ]
  },
  {
   "cell_type": "markdown",
   "metadata": {},
   "source": [
    "---"
   ]
  },
  {
   "cell_type": "markdown",
   "metadata": {
    "incorrectly_encoded_metadata": "kernel=\"R\" toc-hr-collapsed=true toc-hr-collapsed=true"
   },
   "source": [
    "## <b style=\"color:orange\">Raster data model</b>"
   ]
  },
  {
   "cell_type": "markdown",
   "metadata": {},
   "source": [
    "---"
   ]
  },
  {
   "cell_type": "markdown",
   "metadata": {
    "kernel": "R"
   },
   "source": [
    "### Schematic <b style=\"color:green\">representation</b> of a raster"
   ]
  },
  {
   "cell_type": "markdown",
   "metadata": {
    "kernel": "R"
   },
   "source": [
    "<img src=\"../../../artwork/Raster_data_matadata.gif\" alt=\"raster schema\">"
   ]
  },
  {
   "cell_type": "markdown",
   "metadata": {
    "kernel": "R"
   },
   "source": [
    "We can distinguish **two blocks** in a raster (also called grid):<br>\n",
    " - <b style=\"color:#0044ff; font-size:16px; font-family:American Typewriter\">metadata</b>, such as\n",
    "   - class, e.g. RasterLayer\n",
    "   - size, e.g. 3264 x 4800 pixels (nrows x ncols)\n",
    "   - resolution, e.g. 5 meters (synonims are CELLSIZE, PIXELSIZE)\n",
    "   - extent / bounding box (xmin, xmax, ymin, ymax)\n",
    "   - crs (a geographic or projected coordinate system, generally in the proj4 format or EPSG code)\n",
    "   - no data value, e.g. -9999 (synonims are NODATAVALUE, NODATA)\n",
    "   - source (location of file on hard disk, such as ../docente_Langella/Raster-Data/dem5m_vt.tif)\n",
    " - <b style=\"color:#0044ff; font-size:16px; font-family:American Typewriter\">data</b>, that is a matrix (=grid) of cells (=pixels)\n",
    "   - the grid of cells has size nrows x ncols\n",
    "   - each cell in a grid store one numeric value (e.g. integer or double number)\n",
    "   - (we can have multiple layers as depicted in the multidimensional raster data representaion)"
   ]
  },
  {
   "cell_type": "markdown",
   "metadata": {
    "kernel": "R"
   },
   "source": [
    "### import <b style=\"color:green\">raster</b> | example: D.E.M."
   ]
  },
  {
   "cell_type": "code",
   "execution_count": 2,
   "metadata": {
    "kernel": "R"
   },
   "outputs": [],
   "source": [
    "# The command ?raster search for raster string in the documentation.  If the raster package is not loaded in R, the command below gives a warning that\n",
    "# nothing was found.\n",
    "?raster"
   ]
  },
  {
   "cell_type": "code",
   "execution_count": 2,
   "metadata": {
    "kernel": "R"
   },
   "outputs": [
    {
     "name": "stderr",
     "output_type": "stream",
     "text": [
      "Loading required package: sp\n"
     ]
    }
   ],
   "source": [
    "library(raster)  # load the raster package in R"
   ]
  },
  {
   "cell_type": "code",
   "execution_count": 4,
   "metadata": {
    "kernel": "R"
   },
   "outputs": [],
   "source": [
    "# The command below open the documentation of the raster function of the raster package in the help:\n",
    "?raster"
   ]
  },
  {
   "cell_type": "code",
   "execution_count": 5,
   "metadata": {
    "kernel": "R"
   },
   "outputs": [
    {
     "data": {
      "text/html": [
       "'/Users/giuliano/work/Didattica/Veterinaria/PrecisionLivestockFarming/lectures/2020'"
      ],
      "text/latex": [
       "'/Users/giuliano/work/Didattica/Veterinaria/PrecisionLivestockFarming/lectures/2020'"
      ],
      "text/markdown": [
       "'/Users/giuliano/work/Didattica/Veterinaria/PrecisionLivestockFarming/lectures/2020'"
      ],
      "text/plain": [
       "[1] \"/Users/giuliano/work/Didattica/Veterinaria/PrecisionLivestockFarming/lectures/2020\""
      ]
     },
     "metadata": {},
     "output_type": "display_data"
    }
   ],
   "source": [
    "getwd()"
   ]
  },
  {
   "cell_type": "markdown",
   "metadata": {
    "kernel": "R"
   },
   "source": [
    "#### Import (i.e. read) a raster"
   ]
  },
  {
   "cell_type": "markdown",
   "metadata": {
    "kernel": "R"
   },
   "source": [
    "One of the most common rasters used worldwide is the one storing the elevation of each point of land surface.<br>\n",
    "This kind of raster is called D.E.M., that is Digital Elevation Model.<br>\n",
    "The raster has the data matrix in which each pixel stores the value of elevation of that surface on Earth."
   ]
  },
  {
   "cell_type": "code",
   "execution_count": 3,
   "metadata": {
    "kernel": "R"
   },
   "outputs": [],
   "source": [
    "dem <- raster(\"../exercises/docente_Langella/Raster-Data/dem5m_vt.tif\")"
   ]
  },
  {
   "cell_type": "code",
   "execution_count": 7,
   "metadata": {
    "kernel": "R"
   },
   "outputs": [
    {
     "data": {
      "text/html": [
       "'RasterLayer'"
      ],
      "text/latex": [
       "'RasterLayer'"
      ],
      "text/markdown": [
       "'RasterLayer'"
      ],
      "text/plain": [
       "[1] \"RasterLayer\"\n",
       "attr(,\"package\")\n",
       "[1] \"raster\""
      ]
     },
     "metadata": {},
     "output_type": "display_data"
    }
   ],
   "source": [
    "class(dem)"
   ]
  },
  {
   "cell_type": "code",
   "execution_count": 19,
   "metadata": {
    "kernel": "R"
   },
   "outputs": [
    {
     "data": {
      "text/html": [
       "TRUE"
      ],
      "text/latex": [
       "TRUE"
      ],
      "text/markdown": [
       "TRUE"
      ],
      "text/plain": [
       "[1] TRUE"
      ]
     },
     "metadata": {},
     "output_type": "display_data"
    }
   ],
   "source": [
    "hasValues(dem)"
   ]
  },
  {
   "cell_type": "markdown",
   "metadata": {
    "kernel": "R"
   },
   "source": [
    "##### Plot raster"
   ]
  },
  {
   "cell_type": "code",
   "execution_count": 20,
   "metadata": {
    "kernel": "R"
   },
   "outputs": [
    {
     "data": {
      "image/png": "[encoded data removed]",
      "text/plain": [
       "plot without title"
      ]
     },
     "metadata": {
      "image/png": {
       "height": 420,
       "width": 480
      }
     },
     "output_type": "display_data"
    }
   ],
   "source": [
    "spplot(dem, main = \"Elevation in Telesina Valley\")"
   ]
  },
  {
   "cell_type": "markdown",
   "metadata": {
    "kernel": "R"
   },
   "source": [
    "#### <b style=\"color:blue\">Metadata</b>"
   ]
  },
  {
   "cell_type": "markdown",
   "metadata": {
    "kernel": "R"
   },
   "source": [
    "##### Print the dem <b style=\"color:blue\">metadata</b>"
   ]
  },
  {
   "cell_type": "code",
   "execution_count": 8,
   "metadata": {
    "kernel": "R"
   },
   "outputs": [
    {
     "data": {
      "text/plain": [
       "class      : RasterLayer \n",
       "dimensions : 3264, 4800, 15667200  (nrow, ncol, ncell)\n",
       "resolution : 5, 5  (x, y)\n",
       "extent     : 453000, 477000, 4556000, 4572320  (xmin, xmax, ymin, ymax)\n",
       "crs        : +proj=utm +zone=33 +datum=WGS84 +units=m +no_defs +ellps=WGS84 +towgs84=0,0,0 \n",
       "source     : /Users/giuliano/work/Didattica/Veterinaria/PrecisionLivestockFarming/lectures/exercises/docente_Langella/Raster-Data/dem5m_vt.tif \n",
       "names      : dem5m_vt \n"
      ]
     },
     "metadata": {},
     "output_type": "display_data"
    }
   ],
   "source": [
    "dem"
   ]
  },
  {
   "cell_type": "markdown",
   "metadata": {
    "kernel": "R"
   },
   "source": [
    "##### Bounding Box"
   ]
  },
  {
   "cell_type": "code",
   "execution_count": 9,
   "metadata": {
    "kernel": "R"
   },
   "outputs": [
    {
     "data": {
      "text/plain": [
       "class      : Extent \n",
       "xmin       : 453000 \n",
       "xmax       : 477000 \n",
       "ymin       : 4556000 \n",
       "ymax       : 4572320 "
      ]
     },
     "metadata": {},
     "output_type": "display_data"
    }
   ],
   "source": [
    "extent(dem)"
   ]
  },
  {
   "cell_type": "code",
   "execution_count": 10,
   "metadata": {
    "kernel": "R",
    "scrolled": true
   },
   "outputs": [
    {
     "data": {
      "text/html": [
       "<table>\n",
       "<caption>A matrix: 2 × 2 of type dbl</caption>\n",
       "<thead>\n",
       "\t<tr><th></th><th scope=col>min</th><th scope=col>max</th></tr>\n",
       "</thead>\n",
       "<tbody>\n",
       "\t<tr><th scope=row>s1</th><td> 453000</td><td> 477000</td></tr>\n",
       "\t<tr><th scope=row>s2</th><td>4556000</td><td>4572320</td></tr>\n",
       "</tbody>\n",
       "</table>\n"
      ],
      "text/latex": [
       "A matrix: 2 × 2 of type dbl\n",
       "\\begin{tabular}{r|ll}\n",
       "  & min & max\\\\\n",
       "\\hline\n",
       "\ts1 &  453000 &  477000\\\\\n",
       "\ts2 & 4556000 & 4572320\\\\\n",
       "\\end{tabular}\n"
      ],
      "text/markdown": [
       "\n",
       "A matrix: 2 × 2 of type dbl\n",
       "\n",
       "| <!--/--> | min | max |\n",
       "|---|---|---|\n",
       "| s1 |  453000 |  477000 |\n",
       "| s2 | 4556000 | 4572320 |\n",
       "\n"
      ],
      "text/plain": [
       "   min     max    \n",
       "s1  453000  477000\n",
       "s2 4556000 4572320"
      ]
     },
     "metadata": {},
     "output_type": "display_data"
    }
   ],
   "source": [
    "bbox(dem)"
   ]
  },
  {
   "cell_type": "code",
   "execution_count": 11,
   "metadata": {
    "hideCode": true,
    "hideOutput": true,
    "hidePrompt": true,
    "kernel": "R"
   },
   "outputs": [],
   "source": [
    "xmin <- 453000  # metri\n",
    "ymin <- 4556000  # metri\n",
    "xmax <- 477000  # metri\n",
    "ymax <- 4572320  # metri"
   ]
  },
  {
   "cell_type": "code",
   "execution_count": 12,
   "metadata": {
    "hideCode": true,
    "jupyter": {
     "source_hidden": true
    },
    "kernel": "MATLAB",
    "tags": [
     "hide-input"
    ]
   },
   "outputs": [
    {
     "data": {
      "image/png": "[encoded data removed]",
      "text/plain": [
       "<IPython.core.display.Image object>"
      ]
     },
     "metadata": {},
     "output_type": "display_data"
    }
   ],
   "source": [
    "%get xmin ymin xmax ymax --from R\n",
    "line( [xmin,xmin],[ymin,ymax], 'color','b' ) % left\n",
    "line( [xmin,xmax],[ymin,ymin], 'color','b' ) % bottom\n",
    "line( [xmax,xmax],[ymin,ymax], 'color','b' ) % right\n",
    "line( [xmin,xmax],[ymax,ymax], 'color','b' ) % bottom\n",
    "text(xmin+(xmax-xmin)/2,ymin+(ymax-ymin)/2,'Bounding Box','color','b',...\n",
    "     'HorizontalAlignment','center','VerticalAlignment','bottom',...\n",
    "     'Fontsize',20)\n",
    "%text(xmin,ymin+(ymax-ymin)/2,'xmin',...\n",
    "%     'color','m','Fontsize',12,'HorizontalAlignment','left')\n",
    "text(xmin,ymin+(ymax-ymin)/2,{'xmin'; num2str(xmin)},...\n",
    "     'color','m','Fontsize',12,'HorizontalAlignment','right')\n",
    "text(xmax,ymin+(ymax-ymin)/2,{'xmax';num2str(xmax)},...\n",
    "     'color','m','Fontsize',12,'HorizontalAlignment','left')\n",
    "text(xmin+(xmax-xmin)/2,ymin,['ymin ',num2str(ymin)],...\n",
    "     'color','m','Fontsize',12,'VerticalAlignment','top','HorizontalAlignment','center')\n",
    "text(xmin+(xmax-xmin)/2,ymax,['ymax ',num2str(ymax)],...\n",
    "     'color','m','Fontsize',12,'VerticalAlignment','bottom','HorizontalAlignment','center')\n",
    "axis off\n",
    "axis equal\n",
    "% store the external bbox:\n",
    "xmin_o = xmin;\n",
    "ymin_o = ymin; \n",
    "xmax_o = xmax;\n",
    "ymax_o = ymax;"
   ]
  },
  {
   "cell_type": "code",
   "execution_count": 13,
   "metadata": {
    "kernel": "R"
   },
   "outputs": [
    {
     "data": {
      "text/html": [
       "4572320"
      ],
      "text/latex": [
       "4572320"
      ],
      "text/markdown": [
       "4572320"
      ],
      "text/plain": [
       "[1] 4572320"
      ]
     },
     "metadata": {},
     "output_type": "display_data"
    }
   ],
   "source": [
    "ymax(dem)"
   ]
  },
  {
   "cell_type": "code",
   "execution_count": 14,
   "metadata": {
    "kernel": "R"
   },
   "outputs": [
    {
     "data": {
      "text/html": [
       "<style>\n",
       ".list-inline {list-style: none; margin:0; padding: 0}\n",
       ".list-inline>li {display: inline-block}\n",
       ".list-inline>li:not(:last-child)::after {content: \"\\00b7\"; padding: 0 .5ex}\n",
       "</style>\n",
       "<ol class=list-inline><li>5</li><li>5</li></ol>\n"
      ],
      "text/latex": [
       "\\begin{enumerate*}\n",
       "\\item 5\n",
       "\\item 5\n",
       "\\end{enumerate*}\n"
      ],
      "text/markdown": [
       "1. 5\n",
       "2. 5\n",
       "\n",
       "\n"
      ],
      "text/plain": [
       "[1] 5 5"
      ]
     },
     "metadata": {},
     "output_type": "display_data"
    }
   ],
   "source": [
    "res(dem)"
   ]
  },
  {
   "cell_type": "markdown",
   "metadata": {
    "kernel": "R"
   },
   "source": [
    "##### How many rows are in the height of the bounding box?"
   ]
  },
  {
   "cell_type": "code",
   "execution_count": 15,
   "metadata": {
    "kernel": "R"
   },
   "outputs": [
    {
     "data": {
      "text/html": [
       "3264"
      ],
      "text/latex": [
       "3264"
      ],
      "text/markdown": [
       "3264"
      ],
      "text/plain": [
       "[1] 3264"
      ]
     },
     "metadata": {},
     "output_type": "display_data"
    }
   ],
   "source": [
    "# written using the metadata from the print of dem above:\n",
    "(4572320 - 4556000)/5"
   ]
  },
  {
   "cell_type": "code",
   "execution_count": 16,
   "metadata": {
    "kernel": "R"
   },
   "outputs": [
    {
     "data": {
      "text/html": [
       "3264"
      ],
      "text/latex": [
       "3264"
      ],
      "text/markdown": [
       "3264"
      ],
      "text/plain": [
       "[1] 3264"
      ]
     },
     "metadata": {},
     "output_type": "display_data"
    }
   ],
   "source": [
    "# written using the R object dem called by dedicated functions > ymax() , ymin() , res()\n",
    "(ymax(dem) - ymin(dem))/res(dem)[1] # find the error"
   ]
  },
  {
   "cell_type": "markdown",
   "metadata": {
    "kernel": "R"
   },
   "source": [
    "##### About the Coordinate Reference System$\\ldots$"
   ]
  },
  {
   "cell_type": "code",
   "execution_count": 17,
   "metadata": {
    "kernel": "R"
   },
   "outputs": [
    {
     "data": {
      "text/html": [
       "'+proj=utm +zone=33 +datum=WGS84 +units=m +no_defs +ellps=WGS84 +towgs84=0,0,0'"
      ],
      "text/latex": [
       "'+proj=utm +zone=33 +datum=WGS84 +units=m +no\\_defs +ellps=WGS84 +towgs84=0,0,0'"
      ],
      "text/markdown": [
       "'+proj=utm +zone=33 +datum=WGS84 +units=m +no_defs +ellps=WGS84 +towgs84=0,0,0'"
      ],
      "text/plain": [
       "[1] \"+proj=utm +zone=33 +datum=WGS84 +units=m +no_defs +ellps=WGS84 +towgs84=0,0,0\""
      ]
     },
     "metadata": {},
     "output_type": "display_data"
    }
   ],
   "source": [
    "# CRS\n",
    "proj4string(dem)  # {sp}"
   ]
  },
  {
   "cell_type": "code",
   "execution_count": 18,
   "metadata": {
    "kernel": "R",
    "scrolled": true
   },
   "outputs": [
    {
     "data": {
      "text/plain": [
       "CRS arguments:\n",
       " +proj=utm +zone=33 +datum=WGS84 +units=m +no_defs +ellps=WGS84\n",
       "+towgs84=0,0,0 "
      ]
     },
     "metadata": {},
     "output_type": "display_data"
    }
   ],
   "source": [
    "crs(dem)  # {raster}"
   ]
  },
  {
   "cell_type": "markdown",
   "metadata": {
    "kernel": "R"
   },
   "source": [
    "#### <b style=\"color:blue\">Data</b>"
   ]
  },
  {
   "cell_type": "markdown",
   "metadata": {
    "kernel": "R"
   },
   "source": [
    "##### Read the value of the raster in the first row and first column:<br>\n",
    "(Please note that in this example we have a DEM, but it could be any other variable!!)"
   ]
  },
  {
   "cell_type": "code",
   "execution_count": 4,
   "metadata": {
    "kernel": "R",
    "scrolled": true
   },
   "outputs": [
    {
     "data": {
      "text/html": [
       "<strong>:</strong> 217.699996948242"
      ],
      "text/latex": [
       "\\textbf{:} 217.699996948242"
      ],
      "text/markdown": [
       "**:** 217.699996948242"
      ],
      "text/plain": [
       "      \n",
       "217.7 "
      ]
     },
     "metadata": {},
     "output_type": "display_data"
    }
   ],
   "source": [
    "dem[1, 1]"
   ]
  },
  {
   "cell_type": "markdown",
   "metadata": {
    "kernel": "R"
   },
   "source": [
    "##### Read the value of the raster in the first two rows and first two columns:<br>"
   ]
  },
  {
   "cell_type": "code",
   "execution_count": 5,
   "metadata": {
    "kernel": "R"
   },
   "outputs": [
    {
     "data": {
      "text/html": [
       "<style>\n",
       ".list-inline {list-style: none; margin:0; padding: 0}\n",
       ".list-inline>li {display: inline-block}\n",
       ".list-inline>li:not(:last-child)::after {content: \"\\00b7\"; padding: 0 .5ex}\n",
       "</style>\n",
       "<ol class=list-inline><li>217.699996948242</li><li>218.199996948242</li><li>217.600006103516</li><li>218</li></ol>\n"
      ],
      "text/latex": [
       "\\begin{enumerate*}\n",
       "\\item 217.699996948242\n",
       "\\item 218.199996948242\n",
       "\\item 217.600006103516\n",
       "\\item 218\n",
       "\\end{enumerate*}\n"
      ],
      "text/markdown": [
       "1. 217.699996948242\n",
       "2. 218.199996948242\n",
       "3. 217.600006103516\n",
       "4. 218\n",
       "\n",
       "\n"
      ],
      "text/plain": [
       "[1] 217.7 218.2 217.6 218.0"
      ]
     },
     "metadata": {},
     "output_type": "display_data"
    }
   ],
   "source": [
    "dem[1:2, 1:2]"
   ]
  },
  {
   "cell_type": "markdown",
   "metadata": {
    "kernel": "R"
   },
   "source": [
    "##### Extract\n",
    "Exercise: use the geographical coordinates (got from Google maps) and extract the value of elevation from the raster having a different CRS"
   ]
  },
  {
   "cell_type": "markdown",
   "metadata": {
    "kernel": "R"
   },
   "source": [
    "Premise: the DEM is the digital elevation model in Telese Valley having EPSG:32633.<br>\n",
    "1. go to Google Maps\n",
    "2. get the geographical coordinates of a point in Telese municipality\n",
    "3. write the Lat,Lon coordinates with 4 decimal numbers (e.g. 12.1234)\n",
    "4. create a vector data as simple feature using the sf package (keep in mind the crs definition)\n",
    "5. project the point according to the raster crs\n",
    "6. extract from the raster the value of elevation at the geographical location selected in point "
   ]
  },
  {
   "cell_type": "markdown",
   "metadata": {
    "kernel": "R"
   },
   "source": [
    "### Create <b style=\"color:green\">new raster</b> from scratch"
   ]
  },
  {
   "cell_type": "markdown",
   "metadata": {
    "kernel": "R"
   },
   "source": [
    "##### We must provide Bounding Box, resolution and CRS"
   ]
  },
  {
   "cell_type": "code",
   "execution_count": 21,
   "metadata": {
    "kernel": "R"
   },
   "outputs": [],
   "source": [
    "GRID <- raster(xmn = 453000, \n",
    "               xmx = 477000, \n",
    "               ymn = 4556000, \n",
    "               ymx = 4572320, \n",
    "               resolution = 25, \n",
    "               crs = crs(\"+init=epsg:32633\"))"
   ]
  },
  {
   "cell_type": "code",
   "execution_count": 22,
   "metadata": {
    "kernel": "R"
   },
   "outputs": [
    {
     "data": {
      "text/plain": [
       "class      : RasterLayer \n",
       "dimensions : 653, 960, 626880  (nrow, ncol, ncell)\n",
       "resolution : 25, 25  (x, y)\n",
       "extent     : 453000, 477000, 4555995, 4572320  (xmin, xmax, ymin, ymax)\n",
       "crs        : +init=epsg:32633 +proj=utm +zone=33 +datum=WGS84 +units=m +no_defs +ellps=WGS84 +towgs84=0,0,0 \n"
      ]
     },
     "metadata": {},
     "output_type": "display_data"
    }
   ],
   "source": [
    "GRID"
   ]
  },
  {
   "cell_type": "markdown",
   "metadata": {
    "kernel": "R"
   },
   "source": [
    "##### The CRS can be initialised using the <b style=\"color:magenta\">+init</b> instruction and passing a CRS code in EPSG format"
   ]
  },
  {
   "cell_type": "markdown",
   "metadata": {},
   "source": [
    "In this case we use the EPSG code 32633 Remember to provide the EPSG code associated to the coordinates used in xmn, xmx, ymn, ymx"
   ]
  },
  {
   "cell_type": "code",
   "execution_count": 23,
   "metadata": {
    "kernel": "R",
    "scrolled": true
   },
   "outputs": [
    {
     "data": {
      "text/plain": [
       "CRS arguments:\n",
       " +init=epsg:32633 +proj=utm +zone=33 +datum=WGS84 +units=m +no_defs\n",
       "+ellps=WGS84 +towgs84=0,0,0 "
      ]
     },
     "metadata": {},
     "output_type": "display_data"
    }
   ],
   "source": [
    "crs(\"+init=epsg:32633\")"
   ]
  },
  {
   "cell_type": "markdown",
   "metadata": {
    "kernel": "R"
   },
   "source": [
    "##### Set random values in the raster (naturally it's a dummy operation to understand how it works)"
   ]
  },
  {
   "cell_type": "code",
   "execution_count": 24,
   "metadata": {
    "kernel": "R"
   },
   "outputs": [
    {
     "data": {
      "text/html": [
       "960"
      ],
      "text/latex": [
       "960"
      ],
      "text/markdown": [
       "960"
      ],
      "text/plain": [
       "[1] 960"
      ]
     },
     "metadata": {},
     "output_type": "display_data"
    },
    {
     "data": {
      "text/html": [
       "653"
      ],
      "text/latex": [
       "653"
      ],
      "text/markdown": [
       "653"
      ],
      "text/plain": [
       "[1] 653"
      ]
     },
     "metadata": {},
     "output_type": "display_data"
    },
    {
     "data": {
      "text/html": [
       "626880"
      ],
      "text/latex": [
       "626880"
      ],
      "text/markdown": [
       "626880"
      ],
      "text/plain": [
       "[1] 626880"
      ]
     },
     "metadata": {},
     "output_type": "display_data"
    }
   ],
   "source": [
    "ncol(GRID)\n",
    "nrow(GRID)\n",
    "ncell(GRID)"
   ]
  },
  {
   "cell_type": "code",
   "execution_count": 25,
   "metadata": {
    "kernel": "R"
   },
   "outputs": [
    {
     "data": {
      "text/html": [
       "FALSE"
      ],
      "text/latex": [
       "FALSE"
      ],
      "text/markdown": [
       "FALSE"
      ],
      "text/plain": [
       "[1] FALSE"
      ]
     },
     "metadata": {},
     "output_type": "display_data"
    }
   ],
   "source": [
    "hasValues(GRID)"
   ]
  },
  {
   "cell_type": "code",
   "execution_count": 26,
   "metadata": {
    "kernel": "R"
   },
   "outputs": [],
   "source": [
    "values(GRID) <- 1:ncell(GRID)"
   ]
  },
  {
   "cell_type": "code",
   "execution_count": 28,
   "metadata": {
    "kernel": "R"
   },
   "outputs": [],
   "source": [
    "GRID[1, 1] <- NA"
   ]
  },
  {
   "cell_type": "code",
   "execution_count": 29,
   "metadata": {
    "kernel": "R"
   },
   "outputs": [
    {
     "data": {
      "text/html": [
       "TRUE"
      ],
      "text/latex": [
       "TRUE"
      ],
      "text/markdown": [
       "TRUE"
      ],
      "text/plain": [
       "[1] TRUE"
      ]
     },
     "metadata": {},
     "output_type": "display_data"
    }
   ],
   "source": [
    "hasValues(GRID)"
   ]
  },
  {
   "cell_type": "code",
   "execution_count": 30,
   "metadata": {
    "kernel": "R"
   },
   "outputs": [
    {
     "data": {
      "image/png": "[encoded data removed]",
      "text/plain": [
       "plot without title"
      ]
     },
     "metadata": {
      "image/png": {
       "height": 420,
       "width": 480
      }
     },
     "output_type": "display_data"
    }
   ],
   "source": [
    "spplot(GRID, main = \"Dummy valorization of the raster\")"
   ]
  },
  {
   "cell_type": "markdown",
   "metadata": {
    "kernel": "R"
   },
   "source": [
    "#### ––––––––––––––––––––––––––––––––––––––––––––––––––––––––––––––––––––––––––––––––––––––––––––––––––––––––––––––––––––––––"
   ]
  },
  {
   "cell_type": "markdown",
   "metadata": {
    "incorrectly_encoded_metadata": "kernel=\"R\" toc-hr-collapsed=true toc-hr-collapsed=true"
   },
   "source": [
    "## Step #1. <b style=\"color:orange\">Coordinates Conversion</b>\n"
   ]
  },
  {
   "cell_type": "markdown",
   "metadata": {
    "kernel": "R"
   },
   "source": [
    "#### ––––––––––––––––––––––––––––––––––––––––––––––––––––––––––––––––––––––––––––––––––––––––––––––––––––––––––––––––––––––––"
   ]
  },
  {
   "cell_type": "markdown",
   "metadata": {
    "kernel": "R"
   },
   "source": [
    "### Search in R help | <b style=\"color:blue\">transform</b> and <b style=\"color:blue\">project</b>"
   ]
  },
  {
   "cell_type": "code",
   "execution_count": 31,
   "metadata": {
    "kernel": "R"
   },
   "outputs": [],
   "source": [
    "??transform  # search for string 'transform' in R Help"
   ]
  },
  {
   "cell_type": "markdown",
   "metadata": {
    "kernel": "R"
   },
   "source": [
    "We get few options, which are more related to <b style=\"color:magenta\">vector</b> data: <br>\n",
    " - spTransform(), package sp <br>\n",
    " - st_tranform(), package sf <br>"
   ]
  },
  {
   "cell_type": "code",
   "execution_count": 32,
   "metadata": {
    "kernel": "R"
   },
   "outputs": [],
   "source": [
    "??project # search for string 'project' in R Help"
   ]
  },
  {
   "cell_type": "markdown",
   "metadata": {
    "kernel": "R"
   },
   "source": [
    "We get above all one option, which is more related to <b style=\"color:magenta\">raster</b> data: <br>\n",
    " - projectRaster(), package raster <br>"
   ]
  },
  {
   "cell_type": "markdown",
   "metadata": {
    "kernel": "R"
   },
   "source": [
    "#### Use R"
   ]
  },
  {
   "cell_type": "markdown",
   "metadata": {
    "kernel": "R"
   },
   "source": [
    "The suggestion is to build the required data model (i.e. vector or raster) and then proceed with the transform function in R."
   ]
  },
  {
   "cell_type": "markdown",
   "metadata": {
    "kernel": "R"
   },
   "source": [
    "##### vector data model"
   ]
  },
  {
   "cell_type": "markdown",
   "metadata": {
    "kernel": "R"
   },
   "source": [
    "Build a simple feature object, and then use st_transform():"
   ]
  },
  {
   "cell_type": "code",
   "execution_count": 33,
   "metadata": {
    "kernel": "R"
   },
   "outputs": [],
   "source": [
    "# The point below is taken from Google Maps, which has EPSG:4326\n",
    "x <- 14.516343  # Longitude\n",
    "y <- 41.224083  # Latitude\n",
    "google_crs <- 4326"
   ]
  },
  {
   "cell_type": "code",
   "execution_count": 34,
   "metadata": {
    "kernel": "R"
   },
   "outputs": [
    {
     "name": "stderr",
     "output_type": "stream",
     "text": [
      "Loading required package: sf\n",
      "Linking to GEOS 3.7.2, GDAL 2.4.2, PROJ 5.2.0\n",
      "POINT (14.51634 41.22408)\n"
     ]
    }
   ],
   "source": [
    "require(sf)\n",
    "P_goo <- st_point(c(x, y))\n",
    "P_goo"
   ]
  },
  {
   "cell_type": "code",
   "execution_count": 35,
   "metadata": {
    "kernel": "R"
   },
   "outputs": [
    {
     "data": {
      "text/html": [
       "<style>\n",
       ".list-inline {list-style: none; margin:0; padding: 0}\n",
       ".list-inline>li {display: inline-block}\n",
       ".list-inline>li:not(:last-child)::after {content: \"\\00b7\"; padding: 0 .5ex}\n",
       "</style>\n",
       "<ol class=list-inline><li>'sfc_POINT'</li><li>'sfc'</li></ol>\n"
      ],
      "text/latex": [
       "\\begin{enumerate*}\n",
       "\\item 'sfc\\_POINT'\n",
       "\\item 'sfc'\n",
       "\\end{enumerate*}\n"
      ],
      "text/markdown": [
       "1. 'sfc_POINT'\n",
       "2. 'sfc'\n",
       "\n",
       "\n"
      ],
      "text/plain": [
       "[1] \"sfc_POINT\" \"sfc\"      "
      ]
     },
     "metadata": {},
     "output_type": "display_data"
    },
    {
     "name": "stderr",
     "output_type": "stream",
     "text": [
      "POINT (14.51634 41.22408)\n"
     ]
    },
    {
     "data": {
      "application/geo+json": {
       "coordinates": [
        14.5163,
        41.2241
       ],
       "type": "Point"
      },
      "text/plain": [
       "Geometry set for 1 feature \n",
       "geometry type:  POINT\n",
       "dimension:      XY\n",
       "bbox:           xmin: 14.51634 ymin: 41.22408 xmax: 14.51634 ymax: 41.22408\n",
       "epsg (SRID):    4326\n",
       "proj4string:    +proj=longlat +datum=WGS84 +no_defs"
      ]
     },
     "metadata": {},
     "output_type": "display_data"
    }
   ],
   "source": [
    "P_goo_sfc <- st_sfc(P_goo, crs = google_crs)\n",
    "class(P_goo_sfc)\n",
    "P_goo_sfc"
   ]
  },
  {
   "cell_type": "code",
   "execution_count": 36,
   "metadata": {
    "kernel": "R"
   },
   "outputs": [
    {
     "name": "stderr",
     "output_type": "stream",
     "text": [
      "POINT (459461.7 4563746)\n"
     ]
    },
    {
     "data": {
      "application/geo+json": {
       "coordinates": [
        459461.7149,
        4563745.6433
       ],
       "type": "Point"
      },
      "text/plain": [
       "Geometry set for 1 feature \n",
       "geometry type:  POINT\n",
       "dimension:      XY\n",
       "bbox:           xmin: 459461.7 ymin: 4563746 xmax: 459461.7 ymax: 4563746\n",
       "epsg (SRID):    32633\n",
       "proj4string:    +proj=utm +zone=33 +datum=WGS84 +units=m +no_defs"
      ]
     },
     "metadata": {},
     "output_type": "display_data"
    }
   ],
   "source": [
    "my_crs <- 32633\n",
    "P_my_sf <- st_transform(P_goo_sfc, my_crs)\n",
    "P_my_sf"
   ]
  },
  {
   "cell_type": "code",
   "execution_count": 37,
   "metadata": {
    "kernel": "R"
   },
   "outputs": [
    {
     "data": {
      "text/html": [
       "<style>\n",
       ".list-inline {list-style: none; margin:0; padding: 0}\n",
       ".list-inline>li {display: inline-block}\n",
       ".list-inline>li:not(:last-child)::after {content: \"\\00b7\"; padding: 0 .5ex}\n",
       "</style>\n",
       "<ol class=list-inline><li>'sf'</li><li>'data.frame'</li></ol>\n"
      ],
      "text/latex": [
       "\\begin{enumerate*}\n",
       "\\item 'sf'\n",
       "\\item 'data.frame'\n",
       "\\end{enumerate*}\n"
      ],
      "text/markdown": [
       "1. 'sf'\n",
       "2. 'data.frame'\n",
       "\n",
       "\n"
      ],
      "text/plain": [
       "[1] \"sf\"         \"data.frame\""
      ]
     },
     "metadata": {},
     "output_type": "display_data"
    },
    {
     "name": "stderr",
     "output_type": "stream",
     "text": [
      "POINT (14.51634 41.22408)\n"
     ]
    },
    {
     "data": {
      "application/geo+json": {
       "coordinates": [
        14.5163,
        41.2241
       ],
       "type": "Point"
      },
      "text/plain": [
       "Geometry set for 1 feature \n",
       "geometry type:  POINT\n",
       "dimension:      XY\n",
       "bbox:           xmin: 14.51634 ymin: 41.22408 xmax: 14.51634 ymax: 41.22408\n",
       "epsg (SRID):    4326\n",
       "proj4string:    +proj=longlat +datum=WGS84 +no_defs"
      ]
     },
     "metadata": {},
     "output_type": "display_data"
    }
   ],
   "source": [
    "P_goo_sf <- st_sf(point = 1, geometry = P_goo_sfc)\n",
    "class(P_goo_sf)\n",
    "P_goo_sf$geometry"
   ]
  },
  {
   "cell_type": "code",
   "execution_count": 38,
   "metadata": {
    "kernel": "R"
   },
   "outputs": [
    {
     "name": "stderr",
     "output_type": "stream",
     "text": [
      "POINT (459461.7 4563746)\n"
     ]
    },
    {
     "data": {
      "application/geo+json": {
       "coordinates": [
        459461.7149,
        4563745.6433
       ],
       "type": "Point"
      },
      "text/plain": [
       "Geometry set for 1 feature \n",
       "geometry type:  POINT\n",
       "dimension:      XY\n",
       "bbox:           xmin: 459461.7 ymin: 4563746 xmax: 459461.7 ymax: 4563746\n",
       "epsg (SRID):    32633\n",
       "proj4string:    +proj=utm +zone=33 +datum=WGS84 +units=m +no_defs"
      ]
     },
     "metadata": {},
     "output_type": "display_data"
    }
   ],
   "source": [
    "my_crs <- 32633\n",
    "P_my_sf <- st_transform(P_goo_sf, my_crs)\n",
    "P_my_sf$geometry"
   ]
  },
  {
   "cell_type": "markdown",
   "metadata": {
    "kernel": "R"
   },
   "source": [
    "##### raster data model"
   ]
  },
  {
   "cell_type": "markdown",
   "metadata": {
    "kernel": "R"
   },
   "source": [
    "Define the coordinates of the Upper-Left and Lower-Right points delimiting the bounding box of the RASTER we want to create:"
   ]
  },
  {
   "cell_type": "code",
   "execution_count": 39,
   "metadata": {
    "kernel": "R",
    "tags": []
   },
   "outputs": [],
   "source": [
    "#  Click on Google maps on the two points of the bbox and write the coordinates values here\n",
    "UL <- c(11, 43)  # upper left\n",
    "LR <- c(17, 38)  # lower right"
   ]
  },
  {
   "cell_type": "code",
   "execution_count": 40,
   "metadata": {
    "kernel": "R"
   },
   "outputs": [],
   "source": [
    "require(raster)\n",
    "GRID <- raster(xmn = UL[1], xmx = LR[1], ymn = LR[2], ymx = UL[2], resolution = 0.1, crs = crs(\"+init=epsg:4326\"))\n",
    "#       raster(xmn = UL[1], xmx = LR[1], ymn = LR[2], ymx = UL[2], resolution = 0.1, crs = 4326)"
   ]
  },
  {
   "cell_type": "code",
   "execution_count": 41,
   "metadata": {
    "kernel": "R"
   },
   "outputs": [
    {
     "data": {
      "text/plain": [
       "class      : RasterLayer \n",
       "dimensions : 50, 60, 3000  (nrow, ncol, ncell)\n",
       "resolution : 0.1, 0.1  (x, y)\n",
       "extent     : 11, 17, 38, 43  (xmin, xmax, ymin, ymax)\n",
       "crs        : +init=epsg:4326 +proj=longlat +datum=WGS84 +no_defs +ellps=WGS84 +towgs84=0,0,0 \n"
      ]
     },
     "metadata": {},
     "output_type": "display_data"
    }
   ],
   "source": [
    "GRID"
   ]
  },
  {
   "cell_type": "code",
   "execution_count": 42,
   "metadata": {
    "kernel": "R"
   },
   "outputs": [
    {
     "data": {
      "image/png": "[encoded data removed]",
      "text/plain": [
       "Plot with title “”"
      ]
     },
     "metadata": {
      "image/png": {
       "height": 420,
       "width": 480
      }
     },
     "output_type": "display_data"
    }
   ],
   "source": [
    "values(GRID) <- 1:ncell(GRID)\n",
    "require(sp)\n",
    "plot(GRID)"
   ]
  },
  {
   "cell_type": "code",
   "execution_count": 46,
   "metadata": {
    "kernel": "R"
   },
   "outputs": [],
   "source": [
    "GRID_pr <- projectRaster(GRID, crs = \"+init=EPSG:32633\")"
   ]
  },
  {
   "cell_type": "markdown",
   "metadata": {
    "kernel": "R"
   },
   "source": [
    "Plot: note that it is slightly rotated with respect to the previous one due to reprojection"
   ]
  },
  {
   "cell_type": "code",
   "execution_count": 47,
   "metadata": {
    "kernel": "R"
   },
   "outputs": [
    {
     "data": {
      "image/png": "[encoded data removed]",
      "text/plain": [
       "Plot with title “”"
      ]
     },
     "metadata": {
      "image/png": {
       "height": 420,
       "width": 480
      }
     },
     "output_type": "display_data"
    }
   ],
   "source": [
    "plot(GRID_pr)"
   ]
  },
  {
   "cell_type": "markdown",
   "metadata": {
    "kernel": "R"
   },
   "source": [
    "#### Use epsg.io web application\n",
    "https://epsg.io/transform"
   ]
  },
  {
   "cell_type": "code",
   "execution_count": 48,
   "metadata": {
    "kernel": "R"
   },
   "outputs": [
    {
     "data": {
      "text/html": [
       "'https://epsg.io/transform#s_srs=4326&amp;t_srs=32633&amp;x=14.516343&amp;y=41.224083'"
      ],
      "text/latex": [
       "'https://epsg.io/transform\\#s\\_srs=4326\\&t\\_srs=32633\\&x=14.516343\\&y=41.224083'"
      ],
      "text/markdown": [
       "'https://epsg.io/transform#s_srs=4326&amp;t_srs=32633&amp;x=14.516343&amp;y=41.224083'"
      ],
      "text/plain": [
       "[1] \"https://epsg.io/transform#s_srs=4326&t_srs=32633&x=14.516343&y=41.224083\""
      ]
     },
     "metadata": {},
     "output_type": "display_data"
    }
   ],
   "source": [
    "s_srs <- 4326\n",
    "t_srs <- 32633\n",
    "x <- 14.516343  # Longitude\n",
    "y <- 41.224083  # Latitude\n",
    "example_URL <- \"https://epsg.io/transform#s_srs=4326&t_srs=32633&x=13.5000000&y=42.5000000\"\n",
    "my_URL <- paste0(\"https://epsg.io/transform#s_srs=\", s_srs, \"&t_srs=\", t_srs, \"&x=\", x, \"&y=\", y)\n",
    "my_URL"
   ]
  },
  {
   "cell_type": "code",
   "execution_count": 49,
   "metadata": {
    "kernel": "R"
   },
   "outputs": [],
   "source": [
    "xc <- 459461.72\n",
    "yc <- 4563745.65"
   ]
  },
  {
   "cell_type": "markdown",
   "metadata": {
    "kernel": "R"
   },
   "source": [
    "Vienna, Austria<br>\n",
    "P1(15.549644, 48.374276)<br>\n",
    "P2(17.527792, 47.615370)"
   ]
  },
  {
   "cell_type": "code",
   "execution_count": 50,
   "metadata": {
    "kernel": "R"
   },
   "outputs": [],
   "source": [
    "P1 <- st_point(c(15.549644, 48.374276))\n",
    "P2 <- st_point(c(17.527792, 47.61537))"
   ]
  },
  {
   "cell_type": "code",
   "execution_count": 51,
   "metadata": {
    "kernel": "R"
   },
   "outputs": [],
   "source": [
    "P <- st_sfc(P1, P2, crs = 4326)"
   ]
  },
  {
   "cell_type": "code",
   "execution_count": 52,
   "metadata": {
    "kernel": "R"
   },
   "outputs": [
    {
     "name": "stderr",
     "output_type": "stream",
     "text": [
      "POINT (4731873 2822213)\n",
      "POINT (4886176 2751202)\n"
     ]
    },
    {
     "data": {
      "application/geo+json": {
       "geometries": [
        {
         "coordinates": [
          4731872.6304,
          2822212.5571
         ],
         "type": "Point"
        },
        {
         "coordinates": [
          4886175.5883,
          2751202.0254
         ],
         "type": "Point"
        }
       ],
       "type": "GeometryCollection"
      },
      "text/plain": [
       "Geometry set for 2 features \n",
       "geometry type:  POINT\n",
       "dimension:      XY\n",
       "bbox:           xmin: 4731873 ymin: 2751202 xmax: 4886176 ymax: 2822213\n",
       "epsg (SRID):    3035\n",
       "proj4string:    +proj=laea +lat_0=52 +lon_0=10 +x_0=4321000 +y_0=3210000 +ellps=GRS80 +towgs84=0,0,0,0,0,0,0 +units=m +no_defs"
      ]
     },
     "metadata": {},
     "output_type": "display_data"
    }
   ],
   "source": [
    "P_3035 <- st_transform(P, crs = 3035)\n",
    "P_3035"
   ]
  },
  {
   "cell_type": "markdown",
   "metadata": {
    "kernel": "R"
   },
   "source": [
    "### example using <b style=\"color:green\">D.E.M.</b> raster"
   ]
  },
  {
   "cell_type": "markdown",
   "metadata": {
    "kernel": "R"
   },
   "source": [
    "We can expect the air temperature to decrease by 6.5 degrees Celsius for every 1000 meters you gain in elevation.<br>\n",
    "It means that for every meter we move up in elevation, the temperature decreases by 6.5/1000 °C:<br>\n",
    "[ see Wikipedia at https://en.wikipedia.org/wiki/Atmospheric_temperature ]"
   ]
  },
  {
   "cell_type": "code",
   "execution_count": 53,
   "metadata": {
    "kernel": "R"
   },
   "outputs": [
    {
     "data": {
      "text/html": [
       "0.0065"
      ],
      "text/latex": [
       "0.0065"
      ],
      "text/markdown": [
       "0.0065"
      ],
      "text/plain": [
       "[1] 0.0065"
      ]
     },
     "metadata": {},
     "output_type": "display_data"
    }
   ],
   "source": [
    "6.5/1000"
   ]
  },
  {
   "cell_type": "markdown",
   "metadata": {
    "kernel": "R"
   },
   "source": [
    "The slope ($\\beta$) of the relationship between temperature and elevation is 0.0065 Celsius degrees per each meter:<br>\n",
    "$\\beta = -0.0065 \\frac{[°C]}{[m]}$\n"
   ]
  },
  {
   "cell_type": "markdown",
   "metadata": {
    "kernel": "R"
   },
   "source": [
    "If we assume a temperature of 0 °C at elevation 0 meters,"
   ]
  },
  {
   "cell_type": "code",
   "execution_count": null,
   "metadata": {
    "kernel": "R"
   },
   "outputs": [],
   "source": [
    "elev <- 0  # a.s.l. above see level\n",
    "t0 <- 0  # *C\n",
    "beta <- -0.0065"
   ]
  },
  {
   "cell_type": "markdown",
   "metadata": {
    "kernel": "R"
   },
   "source": [
    "what is the predicted temperature at elevation given in the raster <b style=\"color:green\">dem</b> at index position (1,1)?"
   ]
  },
  {
   "cell_type": "code",
   "execution_count": 54,
   "metadata": {
    "kernel": "R"
   },
   "outputs": [
    {
     "data": {
      "text/html": [
       "<strong>:</strong> 217.699996948242"
      ],
      "text/latex": [
       "\\textbf{:} 217.699996948242"
      ],
      "text/markdown": [
       "**:** 217.699996948242"
      ],
      "text/plain": [
       "      \n",
       "217.7 "
      ]
     },
     "metadata": {},
     "output_type": "display_data"
    }
   ],
   "source": [
    "dem[1, 1]"
   ]
  },
  {
   "cell_type": "code",
   "execution_count": 55,
   "metadata": {
    "kernel": "R"
   },
   "outputs": [
    {
     "name": "stdout",
     "output_type": "stream",
     "text": [
      "[1] -1.41505\n"
     ]
    }
   ],
   "source": [
    "t <- 0 + 217.7 * -0.0065\n",
    "print(t)"
   ]
  },
  {
   "cell_type": "markdown",
   "metadata": {
    "kernel": "R"
   },
   "source": [
    "which can be written also as"
   ]
  },
  {
   "cell_type": "code",
   "execution_count": 56,
   "metadata": {
    "kernel": "R"
   },
   "outputs": [
    {
     "name": "stdout",
     "output_type": "stream",
     "text": [
      "         \n",
      "-1.41505 \n"
     ]
    }
   ],
   "source": [
    "t <- t0 + dem[1, 1] * beta\n",
    "print(t)"
   ]
  },
  {
   "cell_type": "markdown",
   "metadata": {
    "kernel": "R"
   },
   "source": [
    "##### Now, expand our model to make predictions of temperature using the information about elevation"
   ]
  },
  {
   "cell_type": "markdown",
   "metadata": {
    "kernel": "R"
   },
   "source": [
    "We assume a linear regression model of the form:<br>\n",
    "$y = \\alpha + \\beta x$"
   ]
  },
  {
   "cell_type": "markdown",
   "metadata": {
    "kernel": "R"
   },
   "source": [
    "Now, assume a temperature of 12.5 °C at elevation 0 meters (the $\\alpha$ parameter of the model) for today:<br>\n",
    "$\\alpha = 12.5 \\;°C$"
   ]
  },
  {
   "cell_type": "markdown",
   "metadata": {
    "kernel": "R"
   },
   "source": [
    "Calculate / Predict the value of temperature at positions in the DEM where matrix indices are:<br>\n",
    "(1,1)<br>\n",
    "(200,700)<br>\n",
    "(3200,2200)"
   ]
  },
  {
   "cell_type": "code",
   "execution_count": 57,
   "metadata": {
    "kernel": "R"
   },
   "outputs": [
    {
     "data": {
      "text/html": [
       "<strong>:</strong> 217.699996948242"
      ],
      "text/latex": [
       "\\textbf{:} 217.699996948242"
      ],
      "text/markdown": [
       "**:** 217.699996948242"
      ],
      "text/plain": [
       "      \n",
       "217.7 "
      ]
     },
     "metadata": {},
     "output_type": "display_data"
    },
    {
     "data": {
      "text/html": [
       "<strong>:</strong> 11.0849500198364"
      ],
      "text/latex": [
       "\\textbf{:} 11.0849500198364"
      ],
      "text/markdown": [
       "**:** 11.0849500198364"
      ],
      "text/plain": [
       "         \n",
       "11.08495 "
      ]
     },
     "metadata": {},
     "output_type": "display_data"
    }
   ],
   "source": [
    "dem[1, 1]\n",
    "12.5 - 0.0065 * dem[1, 1]"
   ]
  },
  {
   "cell_type": "code",
   "execution_count": 58,
   "metadata": {
    "kernel": "R"
   },
   "outputs": [
    {
     "data": {
      "text/html": [
       "<strong>:</strong> 784.200012207031"
      ],
      "text/latex": [
       "\\textbf{:} 784.200012207031"
      ],
      "text/markdown": [
       "**:** 784.200012207031"
      ],
      "text/plain": [
       "      \n",
       "784.2 "
      ]
     },
     "metadata": {},
     "output_type": "display_data"
    },
    {
     "data": {
      "text/html": [
       "<strong>:</strong> 7.4026999206543"
      ],
      "text/latex": [
       "\\textbf{:} 7.4026999206543"
      ],
      "text/markdown": [
       "**:** 7.4026999206543"
      ],
      "text/plain": [
       "       \n",
       "7.4027 "
      ]
     },
     "metadata": {},
     "output_type": "display_data"
    }
   ],
   "source": [
    "dem[200, 700]\n",
    "12.5 - 0.0065 * dem[200, 700]"
   ]
  },
  {
   "cell_type": "code",
   "execution_count": 59,
   "metadata": {
    "kernel": "R"
   },
   "outputs": [
    {
     "data": {
      "text/html": [
       "<strong>:</strong> 1182.40002441406"
      ],
      "text/latex": [
       "\\textbf{:} 1182.40002441406"
      ],
      "text/markdown": [
       "**:** 1182.40002441406"
      ],
      "text/plain": [
       "       \n",
       "1182.4 "
      ]
     },
     "metadata": {},
     "output_type": "display_data"
    },
    {
     "data": {
      "text/html": [
       "<strong>:</strong> 4.81439984130859"
      ],
      "text/latex": [
       "\\textbf{:} 4.81439984130859"
      ],
      "text/markdown": [
       "**:** 4.81439984130859"
      ],
      "text/plain": [
       "       \n",
       "4.8144 "
      ]
     },
     "metadata": {},
     "output_type": "display_data"
    }
   ],
   "source": [
    "dem[3200, 2200]\n",
    "12.5 - 0.0065 * dem[3200, 2200]"
   ]
  },
  {
   "cell_type": "code",
   "execution_count": 60,
   "metadata": {
    "kernel": "R"
   },
   "outputs": [
    {
     "data": {
      "text/plain": [
       "class      : RasterLayer \n",
       "dimensions : 3264, 4800, 15667200  (nrow, ncol, ncell)\n",
       "resolution : 5, 5  (x, y)\n",
       "extent     : 453000, 477000, 4556000, 4572320  (xmin, xmax, ymin, ymax)\n",
       "crs        : +proj=utm +zone=33 +datum=WGS84 +units=m +no_defs +ellps=WGS84 +towgs84=0,0,0 \n",
       "source     : /private/var/folders/dq/dpc2bdh55f965pnzkxft38300000gn/T/RtmpzRHvHo/raster/r_tmp_2020-11-30_171222_18907_37920.grd \n",
       "names      : dem5m_vt \n",
       "values     : 3.4858, 12.39665  (min, max)\n"
      ]
     },
     "metadata": {},
     "output_type": "display_data"
    }
   ],
   "source": [
    "a <- 12.5  # alpha\n",
    "b <- -0.0065  # beta\n",
    "T <- a + b * dem\n",
    "T"
   ]
  },
  {
   "cell_type": "code",
   "execution_count": 61,
   "metadata": {
    "kernel": "R"
   },
   "outputs": [
    {
     "data": {
      "image/png": "[encoded data removed]",
      "text/plain": [
       "plot without title"
      ]
     },
     "metadata": {
      "image/png": {
       "height": 420,
       "width": 480
      }
     },
     "output_type": "display_data"
    }
   ],
   "source": [
    "spplot(T, main = \"Temperature Map on 2020-11-20\")"
   ]
  },
  {
   "cell_type": "markdown",
   "metadata": {
    "kernel": "R"
   },
   "source": [
    "##### Save raster | temperature map"
   ]
  },
  {
   "cell_type": "code",
   "execution_count": 63,
   "metadata": {
    "kernel": "R"
   },
   "outputs": [],
   "source": [
    "writeRaster(x = T, filename = \"Tair_VT_20201120.tif\", overwrite = TRUE)"
   ]
  },
  {
   "cell_type": "markdown",
   "metadata": {
    "kernel": "R"
   },
   "source": [
    "See which [ GDAL raster drivers  ](https://gdal.org/drivers/raster/index.html#raster-drivers) are available out there!"
   ]
  }
 ],
 "metadata": {
  "celltoolbar": "Raw Cell Format",
  "jupytext": {
   "formats": "ipynb,md"
  },
  "kernelspec": {
   "display_name": "R",
   "language": "R",
   "name": "ir"
  },
  "language_info": {
   "codemirror_mode": "r",
   "file_extension": ".r",
   "mimetype": "text/x-r-source",
   "name": "R",
   "pygments_lexer": "r",
   "version": "4.0.5"
  },
  "sos": {
   "default_kernel": "SoS",
   "kernels": [],
   "panel": {
    "displayed": false,
    "height": 0,
    "style": "side"
   },
   "version": "0.22.4"
  },
  "widgets": {
   "application/vnd.jupyter.widget-state+json": {
    "state": {},
    "version_major": 2,
    "version_minor": 0
   }
  }
 },
 "nbformat": 4,
 "nbformat_minor": 4
}
