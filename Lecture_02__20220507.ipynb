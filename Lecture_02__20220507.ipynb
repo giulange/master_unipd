{
 "cells": [
  {
   "cell_type": "markdown",
   "id": "ddad4207",
   "metadata": {},
   "source": [
    "<a id='TOP'></a>\n",
    "# Lecture 02"
   ]
  },
  {
   "cell_type": "markdown",
   "id": "97642eb2",
   "metadata": {},
   "source": [
    "Day<br>07-May-2022 | duration<br>(min) | Block | Argument details\n",
    ":------------------|:------------------|:------|:-----------------\n",
    "14:30 | 20 | B01 | [Exploratory Data Analysis (EDA)](#block_01)\n",
    "14:50 | 10 | B01 |Q\n",
    "15:00 | 20 | B02 | [Variography](#block_02)\n",
    "15:20 | 10 | B02 | Q\n",
    "15:30 | 20 | B03 | [Kriging](#block_03)\n",
    "15:50 | 10 | B03 | Q\n",
    "16:00 | 30 | BREAK\n",
    "16:30 | 20 | B04 | [Geostatistical Analysis of Rainfall](#block_04)\n",
    "16:50 | 10 | B04 | Q\n",
    "17:00 | 20 | B05 | [Spatial interpolation | simple methods](#block_05)\n",
    "17:20 | 10 | B05 | Q\n",
    "17:30 | 20 | B06 | [Models comparison and selection strategy](#block_06)\n",
    "17:50 | 10 | B06 | Q"
   ]
  },
  {
   "cell_type": "markdown",
   "id": "a9c2bb23",
   "metadata": {},
   "source": [
    "<a id='block_01'></a>\n",
    "## Exploratory Data Analysis (EDA)\n",
    "<a href='#TOP'>^ TOP ^</a>"
   ]
  },
  {
   "cell_type": "markdown",
   "id": "d85dba50",
   "metadata": {},
   "source": [
    "EDA\n",
    " > file.R\n",
    "  - contenuto del dataset, origine dei dati, unità di misura, ...\n",
    "  - sintesi statistica del dataset\n",
    "  - rappresentazione grafica dei pattern\n",
    "\n",
    "Esercizio, temperature\n",
    "  - calcolare la mediana\n",
    "  - plot della distribuzione\n",
    "  - calcolare il log e realizzare il plot della distribuzione su scala logaritmica\n",
    "\n",
    "Esercizio (per casa)\n",
    "  - caricare il dataset built-in meuse\n",
    "  - realizzare l'analisi esplorativa con particolare riferimento al cadmio\n",
    "  - valutare una trasformazione del cadmio (sqrt, log, ...)\n",
    "  - rappresentare graficamente la distribuzione delle misure di cadmio"
   ]
  },
  {
   "cell_type": "markdown",
   "id": "d2eedad9",
   "metadata": {},
   "source": [
    "<a id='block_02'></a>\n",
    "## Variography\n",
    "<a href='#TOP'>^ TOP ^</a>"
   ]
  },
  {
   "cell_type": "markdown",
   "id": "d53fed89",
   "metadata": {},
   "source": [
    "Elementi di base dell'analisi variografica\n",
    "  - preparazione del geodato (pacchetto sp vs pacchetto sf)\n",
    "  - nube di variogramma (cloud variogram)\n",
    "  - variogramma sperimentale (experimental variogram)\n",
    "  - fitting con modello di variogramma (variogram model)"
   ]
  },
  {
   "cell_type": "markdown",
   "id": "f9565321",
   "metadata": {},
   "source": [
    "<a id='block_03'></a>\n",
    "## Kriging\n",
    "<a href='#TOP'>^ TOP ^</a>"
   ]
  },
  {
   "cell_type": "markdown",
   "id": "ae75f377",
   "metadata": {},
   "source": [
    "Interpolazione spaziale mediante kriging\n",
    "  - preparazione dei punti incogniti\n",
    "    - punto / punti sparsi, base vettoriale\n",
    "    - grigliato di punti, base raster\n",
    "  - interpolatore kriging usando il modello di variogramma"
   ]
  },
  {
   "cell_type": "markdown",
   "id": "be81a323",
   "metadata": {},
   "source": [
    "<a id='block_04'></a>\n",
    "## Geostatistical Analysis of Rainfall\n",
    "<a href='#TOP'>^ TOP ^</a>"
   ]
  },
  {
   "cell_type": "markdown",
   "id": "e6a621f1",
   "metadata": {},
   "source": [
    "EDA, Variography & Kriging using daily rainfall data\n",
    "\n",
    "> EDA_&_variography_rainfall.R\n",
    "\n",
    "\n",
    "Esercizio\n",
    "   - generare una variabile indicatrice con soglia a 1 mm\n",
    "   - generare il variogramma sperimentale su variabile indicatrice\n",
    "   - realizzare il fitting con modello di variogramma ammissibile\n",
    "   - interpolazione mediante kriging"
   ]
  },
  {
   "cell_type": "markdown",
   "id": "5a2d34c4",
   "metadata": {},
   "source": [
    "<a id='block_05'></a>\n",
    "## Spatial interpolation | simple methods\n",
    "<a href='#TOP'>^ TOP ^</a>"
   ]
  },
  {
   "cell_type": "markdown",
   "id": "1876cf9a",
   "metadata": {},
   "source": [
    "> L02_B05_Spatial interpolation methods at work.ipynb\n",
    "\n",
    "Interpolazione spaziale mediante kriging\n",
    "  - preparazione dei punti incogniti\n",
    "    - punto / punti sparsi, base vettoriale\n",
    "    - grigliato di punti, base raster\n",
    "  - interpolatore kriging usando il modello di variogramma"
   ]
  },
  {
   "cell_type": "markdown",
   "id": "45574889",
   "metadata": {},
   "source": [
    "<a id='block_06'></a>\n",
    "## Models comparison and selection strategy\n",
    "<a href='#TOP'>^ TOP ^</a>"
   ]
  },
  {
   "cell_type": "markdown",
   "id": "1a3c7bb2",
   "metadata": {},
   "source": [
    "> L02_B06_Model selection based on error measurement.ipynb\n",
    "\n",
    "Procedura per il confronto di modelli e selezione del migliore \n",
    "  - Suddivisione del dataset in training e validation\n",
    "    - training 60% – 80%\n",
    "    - validation 40% – 20%\n",
    "  - costruzione dei modelli con il dataset di trainig\n",
    "  - valutazione della performance dei modelli con il dataset di validation\n",
    "  - confronto dei modelli mediante uno o più indicatori\n",
    "  - selezione del migliore modello\n",
    "\n",
    "**NOTA:**<br>\n",
    "In geostatistica è possibile valutare la performance del modello mediante la L-1-O cross-validation."
   ]
  }
 ],
 "metadata": {
  "kernelspec": {
   "display_name": "R",
   "language": "R",
   "name": "ir"
  },
  "language_info": {
   "codemirror_mode": "r",
   "file_extension": ".r",
   "mimetype": "text/x-r-source",
   "name": "R",
   "pygments_lexer": "r",
   "version": "4.0.5"
  },
  "widgets": {
   "application/vnd.jupyter.widget-state+json": {
    "state": {},
    "version_major": 2,
    "version_minor": 0
   }
  }
 },
 "nbformat": 4,
 "nbformat_minor": 5
}
